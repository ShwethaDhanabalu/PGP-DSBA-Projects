{
 "cells": [
  {
   "cell_type": "code",
   "execution_count": 188,
   "id": "07dde413",
   "metadata": {},
   "outputs": [],
   "source": [
    "import pandas as pd\n",
    "import numpy as np\n",
    "import matplotlib.pyplot as plt\n",
    "import seaborn as sns"
   ]
  },
  {
   "cell_type": "markdown",
   "id": "9ff93d3b",
   "metadata": {},
   "source": [
    "Problem One"
   ]
  },
  {
   "cell_type": "code",
   "execution_count": 189,
   "id": "f4d9ba1d",
   "metadata": {},
   "outputs": [
    {
     "data": {
      "text/html": [
       "<div>\n",
       "<style scoped>\n",
       "    .dataframe tbody tr th:only-of-type {\n",
       "        vertical-align: middle;\n",
       "    }\n",
       "\n",
       "    .dataframe tbody tr th {\n",
       "        vertical-align: top;\n",
       "    }\n",
       "\n",
       "    .dataframe thead th {\n",
       "        text-align: right;\n",
       "    }\n",
       "</style>\n",
       "<table border=\"1\" class=\"dataframe\">\n",
       "  <thead>\n",
       "    <tr style=\"text-align: right;\">\n",
       "      <th></th>\n",
       "      <th>Buyer/Spender</th>\n",
       "      <th>Channel</th>\n",
       "      <th>Region</th>\n",
       "      <th>Fresh</th>\n",
       "      <th>Milk</th>\n",
       "      <th>Grocery</th>\n",
       "      <th>Frozen</th>\n",
       "      <th>Detergents_Paper</th>\n",
       "      <th>Delicatessen</th>\n",
       "    </tr>\n",
       "  </thead>\n",
       "  <tbody>\n",
       "    <tr>\n",
       "      <th>0</th>\n",
       "      <td>1</td>\n",
       "      <td>Retail</td>\n",
       "      <td>Other</td>\n",
       "      <td>12669</td>\n",
       "      <td>9656</td>\n",
       "      <td>7561</td>\n",
       "      <td>214</td>\n",
       "      <td>2674</td>\n",
       "      <td>1338</td>\n",
       "    </tr>\n",
       "    <tr>\n",
       "      <th>1</th>\n",
       "      <td>2</td>\n",
       "      <td>Retail</td>\n",
       "      <td>Other</td>\n",
       "      <td>7057</td>\n",
       "      <td>9810</td>\n",
       "      <td>9568</td>\n",
       "      <td>1762</td>\n",
       "      <td>3293</td>\n",
       "      <td>1776</td>\n",
       "    </tr>\n",
       "    <tr>\n",
       "      <th>2</th>\n",
       "      <td>3</td>\n",
       "      <td>Retail</td>\n",
       "      <td>Other</td>\n",
       "      <td>6353</td>\n",
       "      <td>8808</td>\n",
       "      <td>7684</td>\n",
       "      <td>2405</td>\n",
       "      <td>3516</td>\n",
       "      <td>7844</td>\n",
       "    </tr>\n",
       "    <tr>\n",
       "      <th>3</th>\n",
       "      <td>4</td>\n",
       "      <td>Hotel</td>\n",
       "      <td>Other</td>\n",
       "      <td>13265</td>\n",
       "      <td>1196</td>\n",
       "      <td>4221</td>\n",
       "      <td>6404</td>\n",
       "      <td>507</td>\n",
       "      <td>1788</td>\n",
       "    </tr>\n",
       "    <tr>\n",
       "      <th>4</th>\n",
       "      <td>5</td>\n",
       "      <td>Retail</td>\n",
       "      <td>Other</td>\n",
       "      <td>22615</td>\n",
       "      <td>5410</td>\n",
       "      <td>7198</td>\n",
       "      <td>3915</td>\n",
       "      <td>1777</td>\n",
       "      <td>5185</td>\n",
       "    </tr>\n",
       "    <tr>\n",
       "      <th>...</th>\n",
       "      <td>...</td>\n",
       "      <td>...</td>\n",
       "      <td>...</td>\n",
       "      <td>...</td>\n",
       "      <td>...</td>\n",
       "      <td>...</td>\n",
       "      <td>...</td>\n",
       "      <td>...</td>\n",
       "      <td>...</td>\n",
       "    </tr>\n",
       "    <tr>\n",
       "      <th>435</th>\n",
       "      <td>436</td>\n",
       "      <td>Hotel</td>\n",
       "      <td>Other</td>\n",
       "      <td>29703</td>\n",
       "      <td>12051</td>\n",
       "      <td>16027</td>\n",
       "      <td>13135</td>\n",
       "      <td>182</td>\n",
       "      <td>2204</td>\n",
       "    </tr>\n",
       "    <tr>\n",
       "      <th>436</th>\n",
       "      <td>437</td>\n",
       "      <td>Hotel</td>\n",
       "      <td>Other</td>\n",
       "      <td>39228</td>\n",
       "      <td>1431</td>\n",
       "      <td>764</td>\n",
       "      <td>4510</td>\n",
       "      <td>93</td>\n",
       "      <td>2346</td>\n",
       "    </tr>\n",
       "    <tr>\n",
       "      <th>437</th>\n",
       "      <td>438</td>\n",
       "      <td>Retail</td>\n",
       "      <td>Other</td>\n",
       "      <td>14531</td>\n",
       "      <td>15488</td>\n",
       "      <td>30243</td>\n",
       "      <td>437</td>\n",
       "      <td>14841</td>\n",
       "      <td>1867</td>\n",
       "    </tr>\n",
       "    <tr>\n",
       "      <th>438</th>\n",
       "      <td>439</td>\n",
       "      <td>Hotel</td>\n",
       "      <td>Other</td>\n",
       "      <td>10290</td>\n",
       "      <td>1981</td>\n",
       "      <td>2232</td>\n",
       "      <td>1038</td>\n",
       "      <td>168</td>\n",
       "      <td>2125</td>\n",
       "    </tr>\n",
       "    <tr>\n",
       "      <th>439</th>\n",
       "      <td>440</td>\n",
       "      <td>Hotel</td>\n",
       "      <td>Other</td>\n",
       "      <td>2787</td>\n",
       "      <td>1698</td>\n",
       "      <td>2510</td>\n",
       "      <td>65</td>\n",
       "      <td>477</td>\n",
       "      <td>52</td>\n",
       "    </tr>\n",
       "  </tbody>\n",
       "</table>\n",
       "<p>440 rows × 9 columns</p>\n",
       "</div>"
      ],
      "text/plain": [
       "     Buyer/Spender Channel Region  Fresh   Milk  Grocery  Frozen  \\\n",
       "0                1  Retail  Other  12669   9656     7561     214   \n",
       "1                2  Retail  Other   7057   9810     9568    1762   \n",
       "2                3  Retail  Other   6353   8808     7684    2405   \n",
       "3                4   Hotel  Other  13265   1196     4221    6404   \n",
       "4                5  Retail  Other  22615   5410     7198    3915   \n",
       "..             ...     ...    ...    ...    ...      ...     ...   \n",
       "435            436   Hotel  Other  29703  12051    16027   13135   \n",
       "436            437   Hotel  Other  39228   1431      764    4510   \n",
       "437            438  Retail  Other  14531  15488    30243     437   \n",
       "438            439   Hotel  Other  10290   1981     2232    1038   \n",
       "439            440   Hotel  Other   2787   1698     2510      65   \n",
       "\n",
       "     Detergents_Paper  Delicatessen  \n",
       "0                2674          1338  \n",
       "1                3293          1776  \n",
       "2                3516          7844  \n",
       "3                 507          1788  \n",
       "4                1777          5185  \n",
       "..                ...           ...  \n",
       "435               182          2204  \n",
       "436                93          2346  \n",
       "437             14841          1867  \n",
       "438               168          2125  \n",
       "439               477            52  \n",
       "\n",
       "[440 rows x 9 columns]"
      ]
     },
     "execution_count": 189,
     "metadata": {},
     "output_type": "execute_result"
    }
   ],
   "source": [
    "df1 = pd.read_csv('Wholesale+Customers+Data.csv')\n",
    "df1"
   ]
  },
  {
   "cell_type": "code",
   "execution_count": 190,
   "id": "f0915cf9",
   "metadata": {},
   "outputs": [
    {
     "name": "stdout",
     "output_type": "stream",
     "text": [
      "<class 'pandas.core.frame.DataFrame'>\n",
      "RangeIndex: 440 entries, 0 to 439\n",
      "Data columns (total 9 columns):\n",
      " #   Column            Non-Null Count  Dtype \n",
      "---  ------            --------------  ----- \n",
      " 0   Buyer/Spender     440 non-null    int64 \n",
      " 1   Channel           440 non-null    object\n",
      " 2   Region            440 non-null    object\n",
      " 3   Fresh             440 non-null    int64 \n",
      " 4   Milk              440 non-null    int64 \n",
      " 5   Grocery           440 non-null    int64 \n",
      " 6   Frozen            440 non-null    int64 \n",
      " 7   Detergents_Paper  440 non-null    int64 \n",
      " 8   Delicatessen      440 non-null    int64 \n",
      "dtypes: int64(7), object(2)\n",
      "memory usage: 31.1+ KB\n"
     ]
    }
   ],
   "source": [
    "df1.info()"
   ]
  },
  {
   "cell_type": "code",
   "execution_count": 192,
   "id": "714c208b",
   "metadata": {},
   "outputs": [
    {
     "data": {
      "text/html": [
       "<div>\n",
       "<style scoped>\n",
       "    .dataframe tbody tr th:only-of-type {\n",
       "        vertical-align: middle;\n",
       "    }\n",
       "\n",
       "    .dataframe tbody tr th {\n",
       "        vertical-align: top;\n",
       "    }\n",
       "\n",
       "    .dataframe thead th {\n",
       "        text-align: right;\n",
       "    }\n",
       "</style>\n",
       "<table border=\"1\" class=\"dataframe\">\n",
       "  <thead>\n",
       "    <tr style=\"text-align: right;\">\n",
       "      <th></th>\n",
       "      <th>count</th>\n",
       "      <th>unique</th>\n",
       "      <th>top</th>\n",
       "      <th>freq</th>\n",
       "      <th>mean</th>\n",
       "      <th>std</th>\n",
       "      <th>min</th>\n",
       "      <th>25%</th>\n",
       "      <th>50%</th>\n",
       "      <th>75%</th>\n",
       "      <th>max</th>\n",
       "    </tr>\n",
       "  </thead>\n",
       "  <tbody>\n",
       "    <tr>\n",
       "      <th>Buyer/Spender</th>\n",
       "      <td>440.0</td>\n",
       "      <td>NaN</td>\n",
       "      <td>NaN</td>\n",
       "      <td>NaN</td>\n",
       "      <td>220.5</td>\n",
       "      <td>127.161315</td>\n",
       "      <td>1.0</td>\n",
       "      <td>110.75</td>\n",
       "      <td>220.5</td>\n",
       "      <td>330.25</td>\n",
       "      <td>440.0</td>\n",
       "    </tr>\n",
       "    <tr>\n",
       "      <th>Channel</th>\n",
       "      <td>440</td>\n",
       "      <td>2</td>\n",
       "      <td>Hotel</td>\n",
       "      <td>298</td>\n",
       "      <td>NaN</td>\n",
       "      <td>NaN</td>\n",
       "      <td>NaN</td>\n",
       "      <td>NaN</td>\n",
       "      <td>NaN</td>\n",
       "      <td>NaN</td>\n",
       "      <td>NaN</td>\n",
       "    </tr>\n",
       "    <tr>\n",
       "      <th>Region</th>\n",
       "      <td>440</td>\n",
       "      <td>3</td>\n",
       "      <td>Other</td>\n",
       "      <td>316</td>\n",
       "      <td>NaN</td>\n",
       "      <td>NaN</td>\n",
       "      <td>NaN</td>\n",
       "      <td>NaN</td>\n",
       "      <td>NaN</td>\n",
       "      <td>NaN</td>\n",
       "      <td>NaN</td>\n",
       "    </tr>\n",
       "    <tr>\n",
       "      <th>Fresh</th>\n",
       "      <td>440.0</td>\n",
       "      <td>NaN</td>\n",
       "      <td>NaN</td>\n",
       "      <td>NaN</td>\n",
       "      <td>12000.297727</td>\n",
       "      <td>12647.328865</td>\n",
       "      <td>3.0</td>\n",
       "      <td>3127.75</td>\n",
       "      <td>8504.0</td>\n",
       "      <td>16933.75</td>\n",
       "      <td>112151.0</td>\n",
       "    </tr>\n",
       "    <tr>\n",
       "      <th>Milk</th>\n",
       "      <td>440.0</td>\n",
       "      <td>NaN</td>\n",
       "      <td>NaN</td>\n",
       "      <td>NaN</td>\n",
       "      <td>5796.265909</td>\n",
       "      <td>7380.377175</td>\n",
       "      <td>55.0</td>\n",
       "      <td>1533.0</td>\n",
       "      <td>3627.0</td>\n",
       "      <td>7190.25</td>\n",
       "      <td>73498.0</td>\n",
       "    </tr>\n",
       "    <tr>\n",
       "      <th>Grocery</th>\n",
       "      <td>440.0</td>\n",
       "      <td>NaN</td>\n",
       "      <td>NaN</td>\n",
       "      <td>NaN</td>\n",
       "      <td>7951.277273</td>\n",
       "      <td>9503.162829</td>\n",
       "      <td>3.0</td>\n",
       "      <td>2153.0</td>\n",
       "      <td>4755.5</td>\n",
       "      <td>10655.75</td>\n",
       "      <td>92780.0</td>\n",
       "    </tr>\n",
       "    <tr>\n",
       "      <th>Frozen</th>\n",
       "      <td>440.0</td>\n",
       "      <td>NaN</td>\n",
       "      <td>NaN</td>\n",
       "      <td>NaN</td>\n",
       "      <td>3071.931818</td>\n",
       "      <td>4854.673333</td>\n",
       "      <td>25.0</td>\n",
       "      <td>742.25</td>\n",
       "      <td>1526.0</td>\n",
       "      <td>3554.25</td>\n",
       "      <td>60869.0</td>\n",
       "    </tr>\n",
       "    <tr>\n",
       "      <th>Detergents_Paper</th>\n",
       "      <td>440.0</td>\n",
       "      <td>NaN</td>\n",
       "      <td>NaN</td>\n",
       "      <td>NaN</td>\n",
       "      <td>2881.493182</td>\n",
       "      <td>4767.854448</td>\n",
       "      <td>3.0</td>\n",
       "      <td>256.75</td>\n",
       "      <td>816.5</td>\n",
       "      <td>3922.0</td>\n",
       "      <td>40827.0</td>\n",
       "    </tr>\n",
       "    <tr>\n",
       "      <th>Delicatessen</th>\n",
       "      <td>440.0</td>\n",
       "      <td>NaN</td>\n",
       "      <td>NaN</td>\n",
       "      <td>NaN</td>\n",
       "      <td>1524.870455</td>\n",
       "      <td>2820.105937</td>\n",
       "      <td>3.0</td>\n",
       "      <td>408.25</td>\n",
       "      <td>965.5</td>\n",
       "      <td>1820.25</td>\n",
       "      <td>47943.0</td>\n",
       "    </tr>\n",
       "  </tbody>\n",
       "</table>\n",
       "</div>"
      ],
      "text/plain": [
       "                  count unique    top freq          mean           std   min  \\\n",
       "Buyer/Spender     440.0    NaN    NaN  NaN         220.5    127.161315   1.0   \n",
       "Channel             440      2  Hotel  298           NaN           NaN   NaN   \n",
       "Region              440      3  Other  316           NaN           NaN   NaN   \n",
       "Fresh             440.0    NaN    NaN  NaN  12000.297727  12647.328865   3.0   \n",
       "Milk              440.0    NaN    NaN  NaN   5796.265909   7380.377175  55.0   \n",
       "Grocery           440.0    NaN    NaN  NaN   7951.277273   9503.162829   3.0   \n",
       "Frozen            440.0    NaN    NaN  NaN   3071.931818   4854.673333  25.0   \n",
       "Detergents_Paper  440.0    NaN    NaN  NaN   2881.493182   4767.854448   3.0   \n",
       "Delicatessen      440.0    NaN    NaN  NaN   1524.870455   2820.105937   3.0   \n",
       "\n",
       "                      25%     50%       75%       max  \n",
       "Buyer/Spender      110.75   220.5    330.25     440.0  \n",
       "Channel               NaN     NaN       NaN       NaN  \n",
       "Region                NaN     NaN       NaN       NaN  \n",
       "Fresh             3127.75  8504.0  16933.75  112151.0  \n",
       "Milk               1533.0  3627.0   7190.25   73498.0  \n",
       "Grocery            2153.0  4755.5  10655.75   92780.0  \n",
       "Frozen             742.25  1526.0   3554.25   60869.0  \n",
       "Detergents_Paper   256.75   816.5    3922.0   40827.0  \n",
       "Delicatessen       408.25   965.5   1820.25   47943.0  "
      ]
     },
     "execution_count": 192,
     "metadata": {},
     "output_type": "execute_result"
    }
   ],
   "source": [
    "df1.describe(include='all').T"
   ]
  },
  {
   "cell_type": "markdown",
   "id": "82b74694",
   "metadata": {},
   "source": [
    "Question 1.1.1 : Use methods of descriptive statistics to summarize data."
   ]
  },
  {
   "cell_type": "code",
   "execution_count": 198,
   "id": "eb24d2b3",
   "metadata": {},
   "outputs": [
    {
     "name": "stdout",
     "output_type": "stream",
     "text": [
      "Total count:  440\n",
      "Most common Channel is Hotel and most common Region is Other\n",
      "\n",
      "Details of item Fresh\n",
      "Range of Fresh is from 3 - 112151\n",
      "Mean= 12000\n",
      "Median= 8504.0\n",
      "Standard Deviation= 12647\n",
      "---------------------------------------------------------------\n",
      "Details of item Milk\n",
      "Range of Milk is from 55 - 73498\n",
      "Mean= 5796\n",
      "Median= 3627.0\n",
      "Standard Deviation= 7380\n",
      "---------------------------------------------------------------\n",
      "Details of item Grocery\n",
      "Range of Grocery is from 3 - 92780\n",
      "Mean= 7951\n",
      "Median= 4755.5\n",
      "Standard Deviation= 9503\n",
      "---------------------------------------------------------------\n",
      "Details of item Frozen\n",
      "Range of Frozen is from 25 - 60869\n",
      "Mean= 3072\n",
      "Median= 1526.0\n",
      "Standard Deviation= 4855\n",
      "---------------------------------------------------------------\n",
      "Details of item Detergents_Paper\n",
      "Range of Detergents_Paper is from 3 - 40827\n",
      "Mean= 2881\n",
      "Median= 816.5\n",
      "Standard Deviation= 4768\n",
      "---------------------------------------------------------------\n",
      "Details of item Delicatessen\n",
      "Range of Delicatessen is from 3 - 47943\n",
      "Mean= 1525\n",
      "Median= 965.5\n",
      "Standard Deviation= 2820\n",
      "---------------------------------------------------------------\n"
     ]
    }
   ],
   "source": [
    "print('Total count: ',df1['Buyer/Spender'].count())\n",
    "print('Most common Channel is',df1['Channel'].mode()[0],'and most common Region is',df1['Region'].mode()[0])\n",
    "print()\n",
    "items=['Fresh','Milk','Grocery','Frozen','Detergents_Paper','Delicatessen']\n",
    "for i in items:\n",
    "    print('Details of item',i)\n",
    "    print('Range of',i,'is from',df1[i].min(),'-',df1[i].max())\n",
    "    print('Mean=',round(df1[i].mean()))\n",
    "    print('Median=',df1[i].median())\n",
    "    print('Standard Deviation=',round(df1[i].std()))\n",
    "    print('---------------------------------------------------------------')"
   ]
  },
  {
   "cell_type": "markdown",
   "id": "53cf2653",
   "metadata": {},
   "source": [
    "Question 1.1.2 Which Region and which Channel spent the most?"
   ]
  },
  {
   "cell_type": "code",
   "execution_count": 263,
   "id": "b9ddfa88",
   "metadata": {},
   "outputs": [
    {
     "name": "stdout",
     "output_type": "stream",
     "text": [
      "Total Amount spent in the region\n",
      "Other = 10677599\n",
      "Lisbon = 2386813\n",
      "Oporto = 1555088\n",
      "\n",
      "Total Amount spent in the Channel\n",
      "Retail is 6619931\n",
      "Hotel is 7999569\n"
     ]
    }
   ],
   "source": [
    "print('Total Amount spent in the region')\n",
    "for i in df1['Region'].unique():\n",
    "    df1_new=df1[df1['Region']==i]\n",
    "    df1_new_1=pd.DataFrame()\n",
    "    df1_new_1=df1_new.groupby('Channel').sum()\n",
    "    df1_new_1.drop('Buyer/Spender',axis=1,inplace=True)\n",
    "    df1_new_1['Sum']=df1_new_1.sum(axis=1)\n",
    "    print(i,'=',df1_new_1['Sum'].sum())\n",
    "print()\n",
    "print('Total Amount spent in the Channel')\n",
    "for i in df1['Channel'].unique():\n",
    "    df1_new=df1[df1['Channel']==i]\n",
    "    df1_new_1=pd.DataFrame()\n",
    "    df1_new_1=df1_new.groupby('Region').sum()\n",
    "    df1_new_1.drop('Buyer/Spender',axis=1,inplace=True)\n",
    "    df1_new_1['Sum']=df1_new_1.sum(axis=1)\n",
    "    print(i,'is',df1_new_1['Sum'].sum())    "
   ]
  },
  {
   "cell_type": "markdown",
   "id": "df498bca",
   "metadata": {},
   "source": [
    "'Other' region and 'Hotel' channel has spent the most"
   ]
  },
  {
   "cell_type": "markdown",
   "id": "629b37a3",
   "metadata": {},
   "source": [
    "Question 1.1.3 Which Region and which Channel spent the least?"
   ]
  },
  {
   "cell_type": "code",
   "execution_count": 265,
   "id": "40f2de37",
   "metadata": {},
   "outputs": [
    {
     "name": "stdout",
     "output_type": "stream",
     "text": [
      "Total Amount spent in the region\n",
      "Other = 10677599\n",
      "Lisbon = 2386813\n",
      "Oporto = 1555088\n",
      "\n",
      "Total Amount spent in the Channel\n",
      "Retail is 6619931\n",
      "Hotel is 7999569\n"
     ]
    }
   ],
   "source": [
    "print('Total Amount spent in the region')\n",
    "for i in df1['Region'].unique():\n",
    "    df1_new=df1[df1['Region']==i]\n",
    "    df1_new_1=pd.DataFrame()\n",
    "    df1_new_1=df1_new.groupby('Channel').sum()\n",
    "    df1_new_1.drop('Buyer/Spender',axis=1,inplace=True)\n",
    "    df1_new_1['Sum']=df1_new_1.sum(axis=1)\n",
    "    print(i,'=',df1_new_1['Sum'].sum())\n",
    "print()\n",
    "print('Total Amount spent in the Channel')\n",
    "for i in df1['Channel'].unique():\n",
    "    df1_new=df1[df1['Channel']==i]\n",
    "    df1_new_1=pd.DataFrame()\n",
    "    df1_new_1=df1_new.groupby('Region').sum()\n",
    "    df1_new_1.drop('Buyer/Spender',axis=1,inplace=True)\n",
    "    df1_new_1['Sum']=df1_new_1.sum(axis=1)\n",
    "    print(i,'is',df1_new_1['Sum'].sum())    "
   ]
  },
  {
   "cell_type": "markdown",
   "id": "e6af4754",
   "metadata": {},
   "source": [
    "'Oporto' region and 'Retail' channel has spent the least"
   ]
  },
  {
   "cell_type": "markdown",
   "id": "321d880d",
   "metadata": {},
   "source": [
    "Question 1.2. There are 6 different varieties of items that are considered. Describe and comment/explain all the varieties across Region and Channel? Provide a detailed justification for your answer."
   ]
  },
  {
   "cell_type": "code",
   "execution_count": 271,
   "id": "78763fb2",
   "metadata": {},
   "outputs": [
    {
     "data": {
      "text/html": [
       "<div>\n",
       "<style scoped>\n",
       "    .dataframe tbody tr th:only-of-type {\n",
       "        vertical-align: middle;\n",
       "    }\n",
       "\n",
       "    .dataframe tbody tr th {\n",
       "        vertical-align: top;\n",
       "    }\n",
       "\n",
       "    .dataframe thead th {\n",
       "        text-align: right;\n",
       "    }\n",
       "</style>\n",
       "<table border=\"1\" class=\"dataframe\">\n",
       "  <thead>\n",
       "    <tr style=\"text-align: right;\">\n",
       "      <th></th>\n",
       "      <th>Channel</th>\n",
       "      <th>Region</th>\n",
       "      <th>Fresh</th>\n",
       "      <th>Milk</th>\n",
       "      <th>Grocery</th>\n",
       "      <th>Frozen</th>\n",
       "      <th>Detergents_Paper</th>\n",
       "      <th>Delicatessen</th>\n",
       "    </tr>\n",
       "  </thead>\n",
       "  <tbody>\n",
       "    <tr>\n",
       "      <th>0</th>\n",
       "      <td>Retail</td>\n",
       "      <td>Other</td>\n",
       "      <td>12669</td>\n",
       "      <td>9656</td>\n",
       "      <td>7561</td>\n",
       "      <td>214</td>\n",
       "      <td>2674</td>\n",
       "      <td>1338</td>\n",
       "    </tr>\n",
       "    <tr>\n",
       "      <th>1</th>\n",
       "      <td>Retail</td>\n",
       "      <td>Other</td>\n",
       "      <td>7057</td>\n",
       "      <td>9810</td>\n",
       "      <td>9568</td>\n",
       "      <td>1762</td>\n",
       "      <td>3293</td>\n",
       "      <td>1776</td>\n",
       "    </tr>\n",
       "    <tr>\n",
       "      <th>2</th>\n",
       "      <td>Retail</td>\n",
       "      <td>Other</td>\n",
       "      <td>6353</td>\n",
       "      <td>8808</td>\n",
       "      <td>7684</td>\n",
       "      <td>2405</td>\n",
       "      <td>3516</td>\n",
       "      <td>7844</td>\n",
       "    </tr>\n",
       "    <tr>\n",
       "      <th>3</th>\n",
       "      <td>Hotel</td>\n",
       "      <td>Other</td>\n",
       "      <td>13265</td>\n",
       "      <td>1196</td>\n",
       "      <td>4221</td>\n",
       "      <td>6404</td>\n",
       "      <td>507</td>\n",
       "      <td>1788</td>\n",
       "    </tr>\n",
       "    <tr>\n",
       "      <th>4</th>\n",
       "      <td>Retail</td>\n",
       "      <td>Other</td>\n",
       "      <td>22615</td>\n",
       "      <td>5410</td>\n",
       "      <td>7198</td>\n",
       "      <td>3915</td>\n",
       "      <td>1777</td>\n",
       "      <td>5185</td>\n",
       "    </tr>\n",
       "    <tr>\n",
       "      <th>...</th>\n",
       "      <td>...</td>\n",
       "      <td>...</td>\n",
       "      <td>...</td>\n",
       "      <td>...</td>\n",
       "      <td>...</td>\n",
       "      <td>...</td>\n",
       "      <td>...</td>\n",
       "      <td>...</td>\n",
       "    </tr>\n",
       "    <tr>\n",
       "      <th>435</th>\n",
       "      <td>Hotel</td>\n",
       "      <td>Other</td>\n",
       "      <td>29703</td>\n",
       "      <td>12051</td>\n",
       "      <td>16027</td>\n",
       "      <td>13135</td>\n",
       "      <td>182</td>\n",
       "      <td>2204</td>\n",
       "    </tr>\n",
       "    <tr>\n",
       "      <th>436</th>\n",
       "      <td>Hotel</td>\n",
       "      <td>Other</td>\n",
       "      <td>39228</td>\n",
       "      <td>1431</td>\n",
       "      <td>764</td>\n",
       "      <td>4510</td>\n",
       "      <td>93</td>\n",
       "      <td>2346</td>\n",
       "    </tr>\n",
       "    <tr>\n",
       "      <th>437</th>\n",
       "      <td>Retail</td>\n",
       "      <td>Other</td>\n",
       "      <td>14531</td>\n",
       "      <td>15488</td>\n",
       "      <td>30243</td>\n",
       "      <td>437</td>\n",
       "      <td>14841</td>\n",
       "      <td>1867</td>\n",
       "    </tr>\n",
       "    <tr>\n",
       "      <th>438</th>\n",
       "      <td>Hotel</td>\n",
       "      <td>Other</td>\n",
       "      <td>10290</td>\n",
       "      <td>1981</td>\n",
       "      <td>2232</td>\n",
       "      <td>1038</td>\n",
       "      <td>168</td>\n",
       "      <td>2125</td>\n",
       "    </tr>\n",
       "    <tr>\n",
       "      <th>439</th>\n",
       "      <td>Hotel</td>\n",
       "      <td>Other</td>\n",
       "      <td>2787</td>\n",
       "      <td>1698</td>\n",
       "      <td>2510</td>\n",
       "      <td>65</td>\n",
       "      <td>477</td>\n",
       "      <td>52</td>\n",
       "    </tr>\n",
       "  </tbody>\n",
       "</table>\n",
       "<p>440 rows × 8 columns</p>\n",
       "</div>"
      ],
      "text/plain": [
       "    Channel Region  Fresh   Milk  Grocery  Frozen  Detergents_Paper  \\\n",
       "0    Retail  Other  12669   9656     7561     214              2674   \n",
       "1    Retail  Other   7057   9810     9568    1762              3293   \n",
       "2    Retail  Other   6353   8808     7684    2405              3516   \n",
       "3     Hotel  Other  13265   1196     4221    6404               507   \n",
       "4    Retail  Other  22615   5410     7198    3915              1777   \n",
       "..      ...    ...    ...    ...      ...     ...               ...   \n",
       "435   Hotel  Other  29703  12051    16027   13135               182   \n",
       "436   Hotel  Other  39228   1431      764    4510                93   \n",
       "437  Retail  Other  14531  15488    30243     437             14841   \n",
       "438   Hotel  Other  10290   1981     2232    1038               168   \n",
       "439   Hotel  Other   2787   1698     2510      65               477   \n",
       "\n",
       "     Delicatessen  \n",
       "0            1338  \n",
       "1            1776  \n",
       "2            7844  \n",
       "3            1788  \n",
       "4            5185  \n",
       "..            ...  \n",
       "435          2204  \n",
       "436          2346  \n",
       "437          1867  \n",
       "438          2125  \n",
       "439            52  \n",
       "\n",
       "[440 rows x 8 columns]"
      ]
     },
     "execution_count": 271,
     "metadata": {},
     "output_type": "execute_result"
    }
   ],
   "source": [
    "df1_new=df1.drop('Buyer/Spender',axis=1)\n",
    "df1_new"
   ]
  },
  {
   "cell_type": "code",
   "execution_count": 278,
   "id": "ed6880ec",
   "metadata": {},
   "outputs": [
    {
     "name": "stdout",
     "output_type": "stream",
     "text": [
      "----------------------------------------------------------------------------------------------------------------\n",
      "Details of Channel: Retail\n",
      "----------------------------------------------------------------------------------------------------------------\n",
      "Details of Region: Other\n",
      "                  count          mean           std     min     25%      50%  \\\n",
      "Fresh             105.0   9831.504762   9635.394129    23.0  2343.0   7362.0   \n",
      "Milk              105.0  10981.009524  10574.827178  1124.0  6128.0   7845.0   \n",
      "Grocery           105.0  15953.809524  12298.935356  4523.0  9170.0  12121.0   \n",
      "Frozen            105.0   1513.200000   1504.498737    33.0   437.0   1059.0   \n",
      "Detergents_Paper  105.0   6899.238095   6022.091110   523.0  3537.0   5121.0   \n",
      "Delicatessen      105.0   1826.209524   2119.052222     3.0   545.0   1386.0   \n",
      "\n",
      "                      75%      max  \n",
      "Fresh             15076.0  44466.0  \n",
      "Milk              11114.0  73498.0  \n",
      "Grocery           19805.0  92780.0  \n",
      "Frozen             2194.0   8132.0  \n",
      "Detergents_Paper   7677.0  40827.0  \n",
      "Delicatessen       2158.0  16523.0  \n",
      "Details of Region: Lisbon\n",
      "                  count          mean           std     min       25%  \\\n",
      "Fresh              18.0   5200.000000   5415.521495    18.0   2378.25   \n",
      "Milk               18.0  10784.000000   6609.221463  2527.0   6253.25   \n",
      "Grocery            18.0  18471.944444  10414.687844  5265.0  10634.25   \n",
      "Frozen             18.0   2584.111111   2424.774577    61.0    923.50   \n",
      "Detergents_Paper   18.0   8225.277778   5515.878798   788.0   4818.25   \n",
      "Delicatessen       18.0   1871.944444   1626.486667   120.0    746.00   \n",
      "\n",
      "                      50%       75%      max  \n",
      "Fresh              2926.0   5988.00  20782.0  \n",
      "Milk               8866.0  13112.25  28326.0  \n",
      "Grocery           16106.0  23478.75  39694.0  \n",
      "Frozen             1522.0   3843.00   8321.0  \n",
      "Detergents_Paper   6177.0  11804.75  19410.0  \n",
      "Delicatessen       1414.0   2456.50   6372.0  \n",
      "Details of Region: Oporto\n",
      "                  count          mean           std     min     25%      50%  \\\n",
      "Fresh              19.0   7289.789474   6867.934548   161.0  2368.0   6468.0   \n",
      "Milk               19.0   9190.789474   6611.354136   928.0  4148.5   6817.0   \n",
      "Grocery            19.0  16326.315789  14035.453775  2743.0  9318.5  12469.0   \n",
      "Frozen             19.0   1540.578947   2473.266471   131.0   639.5    934.0   \n",
      "Detergents_Paper   19.0   8410.263158   8286.748255   332.0  3900.0   6236.0   \n",
      "Delicatessen       19.0   1239.000000   1065.438042    59.0   392.5   1037.0   \n",
      "\n",
      "                      75%      max  \n",
      "Fresh              9162.0  27082.0  \n",
      "Milk              13127.5  25071.0  \n",
      "Grocery           19785.5  67298.0  \n",
      "Frozen             1410.0  11559.0  \n",
      "Detergents_Paper   9837.5  38102.0  \n",
      "Delicatessen       1815.0   3508.0  \n",
      "----------------------------------------------------------------------------------------------------------------\n",
      "Details of Channel: Hotel\n",
      "----------------------------------------------------------------------------------------------------------------\n",
      "Details of Region: Other\n",
      "                  count          mean           std   min     25%     50%  \\\n",
      "Fresh             211.0  13878.052133  14746.572913   3.0  3702.5  9612.0   \n",
      "Milk              211.0   3486.981043   4508.505269  55.0  1188.5  2247.0   \n",
      "Grocery           211.0   3886.734597   3593.506056   3.0  1666.0  2642.0   \n",
      "Frozen            211.0   3656.900474   4956.590848  25.0   779.0  1960.0   \n",
      "Detergents_Paper  211.0    786.682464   1099.970640   3.0   176.5   375.0   \n",
      "Delicatessen      211.0   1518.284360   3663.183304   3.0   378.5   823.0   \n",
      "\n",
      "                      75%       max  \n",
      "Fresh             18821.0  112151.0  \n",
      "Milk               4205.0   43950.0  \n",
      "Grocery            4927.5   21042.0  \n",
      "Frozen             4542.5   36534.0  \n",
      "Detergents_Paper    948.5    6907.0  \n",
      "Delicatessen       1582.0   47943.0  \n",
      "Details of Region: Lisbon\n",
      "                  count          mean           std    min     25%     50%  \\\n",
      "Fresh              59.0  12902.254237  12342.008901  514.0  4437.5  8656.0   \n",
      "Milk               59.0   3870.203390   4298.321195  258.0  1071.0  2280.0   \n",
      "Grocery            59.0   4026.135593   3629.644143  489.0  1620.0  2576.0   \n",
      "Frozen             59.0   3127.322034   3276.460124   91.0   966.0  1859.0   \n",
      "Detergents_Paper   59.0    950.525424   1305.907616    5.0   237.0   412.0   \n",
      "Delicatessen       59.0   1197.152542   1219.945304    7.0   374.0   749.0   \n",
      "\n",
      "                      75%      max  \n",
      "Fresh             18135.0  56083.0  \n",
      "Milk               4995.5  23527.0  \n",
      "Grocery            5172.5  16966.0  \n",
      "Frozen             4479.0  18711.0  \n",
      "Detergents_Paper    874.0   5828.0  \n",
      "Delicatessen       1621.5   6854.0  \n",
      "Details of Region: Oporto\n",
      "                  count          mean           std     min      25%     50%  \\\n",
      "Fresh              28.0  11650.535714   8969.362752     3.0  4938.25  9787.0   \n",
      "Milk               28.0   2304.250000   2968.628697   333.0  1146.00  1560.5   \n",
      "Grocery            28.0   4395.500000   3048.298815  1330.0  2373.75  3352.0   \n",
      "Frozen             28.0   5745.035714  11454.478518   264.0   962.25  2696.5   \n",
      "Detergents_Paper   28.0    482.714286    425.310506    15.0   182.75   325.0   \n",
      "Delicatessen       28.0   1105.892857   1056.778800    51.0   567.25   883.0   \n",
      "\n",
      "                       75%      max  \n",
      "Fresh             17031.50  32717.0  \n",
      "Milk               2344.75  16784.0  \n",
      "Grocery            5527.50  13626.0  \n",
      "Frozen             4617.00  60869.0  \n",
      "Detergents_Paper    707.00   1679.0  \n",
      "Delicatessen       1146.00   5609.0  \n"
     ]
    }
   ],
   "source": [
    "unique_region=df1_new['Region'].unique()\n",
    "unique_channel=['Retail','Hotel']\n",
    "for i in unique_channel:\n",
    "    print('----------------------------------------------------------------------------------------------------------------')\n",
    "    print('Details of Channel:',i)\n",
    "    print('----------------------------------------------------------------------------------------------------------------')\n",
    "    for j in unique_region:\n",
    "            #print('')\n",
    "            print('Details of Region:',j)\n",
    "            #print('')\n",
    "            print(df1_new[(df1_new['Channel']==i) & (df1_new['Region']==j)].describe().T)"
   ]
  },
  {
   "cell_type": "markdown",
   "id": "a035a961",
   "metadata": {},
   "source": [
    "•\tHighest mean for the Fresh items in Hotel channel across Other regions.<br>\n",
    "•\tSimilarly max value is present for Fresh items in Hotel channel across Other regions.<br>\n",
    "•\tis the minimum value for few items.<br>\n",
    "•\tOther is the most popular, Oporto is the least popular region in Hotel channel.<br>\n",
    "•\tOther is the most popular, Libson is the least popular region in Retail channel.<br>\n",
    "•\tOutliers are present for most of the regions.<br>"
   ]
  },
  {
   "cell_type": "markdown",
   "id": "ec4113d8",
   "metadata": {},
   "source": [
    "Question 1.3 On the basis of the descriptive measure of variability, which item shows the most inconsistent behaviour? Which items shows the least inconsistent behaviour?"
   ]
  },
  {
   "cell_type": "code",
   "execution_count": 279,
   "id": "ec17fb8b",
   "metadata": {},
   "outputs": [
    {
     "data": {
      "text/plain": [
       "{'Fresh': 1.0539179237473149,\n",
       " 'Milk': 1.2732985840065414,\n",
       " 'Grocery': 1.1951743730016824,\n",
       " 'Frozen': 1.5803323836352914,\n",
       " 'Detergents_Paper': 1.6546471385005155,\n",
       " 'Delicatessen': 1.8494068981158382}"
      ]
     },
     "execution_count": 279,
     "metadata": {},
     "output_type": "execute_result"
    }
   ],
   "source": [
    "Items_dict={}\n",
    "for i in items:\n",
    "    Items_dict.update({i:df1[i].std()/df1[i].mean()})\n",
    "Items_dict"
   ]
  },
  {
   "cell_type": "code",
   "execution_count": 280,
   "id": "9264e83e",
   "metadata": {},
   "outputs": [
    {
     "name": "stdout",
     "output_type": "stream",
     "text": [
      "Item Delicatessen is most inconsistent with co-varriance value 1.8494068981158382\n"
     ]
    }
   ],
   "source": [
    "print('Item',max(Items_dict, key= lambda x: Items_dict[x]),'is most inconsistent with co-varriance value',max(Items_dict.values()))"
   ]
  },
  {
   "cell_type": "code",
   "execution_count": 281,
   "id": "c94f0f37",
   "metadata": {},
   "outputs": [
    {
     "name": "stdout",
     "output_type": "stream",
     "text": [
      "Item Fresh is least inconsistent with co-varriance value 1.0539179237473149\n"
     ]
    }
   ],
   "source": [
    "print('Item',min(Items_dict, key= lambda x: Items_dict[x]),'is least inconsistent with co-varriance value',min(Items_dict.values()))"
   ]
  },
  {
   "cell_type": "markdown",
   "id": "75eec2d8",
   "metadata": {},
   "source": [
    "Question 1.4 Are there any outliers in the data? Back up your answer with a suitable plot/technique with the help of detailed comments."
   ]
  },
  {
   "cell_type": "code",
   "execution_count": 105,
   "id": "e727609c",
   "metadata": {},
   "outputs": [
    {
     "data": {
      "image/png": "[encoded data removed]",
      "text/plain": [
       "<Figure size 720x2880 with 1 Axes>"
      ]
     },
     "metadata": {
      "needs_background": "light"
     },
     "output_type": "display_data"
    },
    {
     "data": {
      "image/png": "[encoded data removed]",
      "text/plain": [
       "<Figure size 720x2880 with 1 Axes>"
      ]
     },
     "metadata": {
      "needs_background": "light"
     },
     "output_type": "display_data"
    },
    {
     "data": {
      "image/png": "[encoded data removed]",
      "text/plain": [
       "<Figure size 720x2880 with 1 Axes>"
      ]
     },
     "metadata": {
      "needs_background": "light"
     },
     "output_type": "display_data"
    },
    {
     "data": {
      "image/png": "[encoded data removed]",
      "text/plain": [
       "<Figure size 720x2880 with 1 Axes>"
      ]
     },
     "metadata": {
      "needs_background": "light"
     },
     "output_type": "display_data"
    },
    {
     "data": {
      "image/png": "[encoded data removed]",
      "text/plain": [
       "<Figure size 720x2880 with 1 Axes>"
      ]
     },
     "metadata": {
      "needs_background": "light"
     },
     "output_type": "display_data"
    },
    {
     "data": {
      "image/png": "[encoded data removed]",
      "text/plain": [
       "<Figure size 720x2880 with 1 Axes>"
      ]
     },
     "metadata": {
      "needs_background": "light"
     },
     "output_type": "display_data"
    }
   ],
   "source": [
    "for i in items:\n",
    "    plt.figure(figsize= (10,40))\n",
    "    plt.subplot(12,1,1)\n",
    "    sns.boxplot(x='Channel',y=i, data=df1, hue='Region'); "
   ]
  },
  {
   "cell_type": "markdown",
   "id": "32d7afad",
   "metadata": {},
   "source": [
    "Yes, there are outliers"
   ]
  },
  {
   "cell_type": "markdown",
   "id": "6362b85a",
   "metadata": {},
   "source": [
    "•Fresh item has outliers for all channels and region except for Oporto region in Hotel channel.<br>\n",
    "•Milk item has outliers for all channels and region except for Oporto region in Retail channel.<br>\n",
    "•Grocery items have outliers across all channels and regions except Lisbon region in Retail channel.<br>\n",
    "•Frozen items have outliers across all channels and regions.<br>\n",
    "•Detergents Papers have outliers across all regions and channel except Lisbon region in Retail channel.<br>\n",
    "•Delicatessen has outliers across all regions and channel except Oporto region in Retail channel.<br>"
   ]
  },
  {
   "cell_type": "markdown",
   "id": "604e4af9",
   "metadata": {},
   "source": [
    "Question : 1.5 On the basis of your analysis, what are your recommendations for the business? How can your analysis help the business to solve its problem? Answer from the business perspective."
   ]
  },
  {
   "cell_type": "markdown",
   "id": "e8ba4eb6",
   "metadata": {},
   "source": [
    "•Hotel channel and other regions have bought fresh items more than any other items; sales can be improved by focusing on hotels in other regions since Fresh item is the most consistent item.<br>\n",
    "•Supply of Delicatessen item can be reduced across all regions and channels since they are least bought and highly inconsistent.<br>\n",
    "•Retail channel have noticed that outliers are not present in few regions.<br>\n"
   ]
  },
  {
   "cell_type": "markdown",
   "id": "4d0d6f20",
   "metadata": {},
   "source": [
    "Problem two"
   ]
  },
  {
   "cell_type": "code",
   "execution_count": 282,
   "id": "f1ec1e60",
   "metadata": {},
   "outputs": [],
   "source": [
    "df2=pd.read_csv('Survey-1.csv')"
   ]
  },
  {
   "cell_type": "code",
   "execution_count": 283,
   "id": "5151ce8e",
   "metadata": {},
   "outputs": [
    {
     "data": {
      "text/html": [
       "<div>\n",
       "<style scoped>\n",
       "    .dataframe tbody tr th:only-of-type {\n",
       "        vertical-align: middle;\n",
       "    }\n",
       "\n",
       "    .dataframe tbody tr th {\n",
       "        vertical-align: top;\n",
       "    }\n",
       "\n",
       "    .dataframe thead th {\n",
       "        text-align: right;\n",
       "    }\n",
       "</style>\n",
       "<table border=\"1\" class=\"dataframe\">\n",
       "  <thead>\n",
       "    <tr style=\"text-align: right;\">\n",
       "      <th></th>\n",
       "      <th>ID</th>\n",
       "      <th>Gender</th>\n",
       "      <th>Age</th>\n",
       "      <th>Class</th>\n",
       "      <th>Major</th>\n",
       "      <th>Grad Intention</th>\n",
       "      <th>GPA</th>\n",
       "      <th>Employment</th>\n",
       "      <th>Salary</th>\n",
       "      <th>Social Networking</th>\n",
       "      <th>Satisfaction</th>\n",
       "      <th>Spending</th>\n",
       "      <th>Computer</th>\n",
       "      <th>Text Messages</th>\n",
       "    </tr>\n",
       "  </thead>\n",
       "  <tbody>\n",
       "    <tr>\n",
       "      <th>0</th>\n",
       "      <td>1</td>\n",
       "      <td>Female</td>\n",
       "      <td>20</td>\n",
       "      <td>Junior</td>\n",
       "      <td>Other</td>\n",
       "      <td>Yes</td>\n",
       "      <td>2.9</td>\n",
       "      <td>Full-Time</td>\n",
       "      <td>50.0</td>\n",
       "      <td>1</td>\n",
       "      <td>3</td>\n",
       "      <td>350</td>\n",
       "      <td>Laptop</td>\n",
       "      <td>200</td>\n",
       "    </tr>\n",
       "    <tr>\n",
       "      <th>1</th>\n",
       "      <td>2</td>\n",
       "      <td>Male</td>\n",
       "      <td>23</td>\n",
       "      <td>Senior</td>\n",
       "      <td>Management</td>\n",
       "      <td>Yes</td>\n",
       "      <td>3.6</td>\n",
       "      <td>Part-Time</td>\n",
       "      <td>25.0</td>\n",
       "      <td>1</td>\n",
       "      <td>4</td>\n",
       "      <td>360</td>\n",
       "      <td>Laptop</td>\n",
       "      <td>50</td>\n",
       "    </tr>\n",
       "    <tr>\n",
       "      <th>2</th>\n",
       "      <td>3</td>\n",
       "      <td>Male</td>\n",
       "      <td>21</td>\n",
       "      <td>Junior</td>\n",
       "      <td>Other</td>\n",
       "      <td>Yes</td>\n",
       "      <td>2.5</td>\n",
       "      <td>Part-Time</td>\n",
       "      <td>45.0</td>\n",
       "      <td>2</td>\n",
       "      <td>4</td>\n",
       "      <td>600</td>\n",
       "      <td>Laptop</td>\n",
       "      <td>200</td>\n",
       "    </tr>\n",
       "    <tr>\n",
       "      <th>3</th>\n",
       "      <td>4</td>\n",
       "      <td>Male</td>\n",
       "      <td>21</td>\n",
       "      <td>Junior</td>\n",
       "      <td>CIS</td>\n",
       "      <td>Yes</td>\n",
       "      <td>2.5</td>\n",
       "      <td>Full-Time</td>\n",
       "      <td>40.0</td>\n",
       "      <td>4</td>\n",
       "      <td>6</td>\n",
       "      <td>600</td>\n",
       "      <td>Laptop</td>\n",
       "      <td>250</td>\n",
       "    </tr>\n",
       "    <tr>\n",
       "      <th>4</th>\n",
       "      <td>5</td>\n",
       "      <td>Male</td>\n",
       "      <td>23</td>\n",
       "      <td>Senior</td>\n",
       "      <td>Other</td>\n",
       "      <td>Undecided</td>\n",
       "      <td>2.8</td>\n",
       "      <td>Unemployed</td>\n",
       "      <td>40.0</td>\n",
       "      <td>2</td>\n",
       "      <td>4</td>\n",
       "      <td>500</td>\n",
       "      <td>Laptop</td>\n",
       "      <td>100</td>\n",
       "    </tr>\n",
       "  </tbody>\n",
       "</table>\n",
       "</div>"
      ],
      "text/plain": [
       "   ID  Gender  Age   Class       Major Grad Intention  GPA  Employment  \\\n",
       "0   1  Female   20  Junior       Other            Yes  2.9   Full-Time   \n",
       "1   2    Male   23  Senior  Management            Yes  3.6   Part-Time   \n",
       "2   3    Male   21  Junior       Other            Yes  2.5   Part-Time   \n",
       "3   4    Male   21  Junior         CIS            Yes  2.5   Full-Time   \n",
       "4   5    Male   23  Senior       Other      Undecided  2.8  Unemployed   \n",
       "\n",
       "   Salary  Social Networking  Satisfaction  Spending Computer  Text Messages  \n",
       "0    50.0                  1             3       350   Laptop            200  \n",
       "1    25.0                  1             4       360   Laptop             50  \n",
       "2    45.0                  2             4       600   Laptop            200  \n",
       "3    40.0                  4             6       600   Laptop            250  \n",
       "4    40.0                  2             4       500   Laptop            100  "
      ]
     },
     "execution_count": 283,
     "metadata": {},
     "output_type": "execute_result"
    }
   ],
   "source": [
    "df2.head()"
   ]
  },
  {
   "cell_type": "code",
   "execution_count": 284,
   "id": "13741a03",
   "metadata": {},
   "outputs": [
    {
     "name": "stdout",
     "output_type": "stream",
     "text": [
      "<class 'pandas.core.frame.DataFrame'>\n",
      "RangeIndex: 62 entries, 0 to 61\n",
      "Data columns (total 14 columns):\n",
      " #   Column             Non-Null Count  Dtype  \n",
      "---  ------             --------------  -----  \n",
      " 0   ID                 62 non-null     int64  \n",
      " 1   Gender             62 non-null     object \n",
      " 2   Age                62 non-null     int64  \n",
      " 3   Class              62 non-null     object \n",
      " 4   Major              62 non-null     object \n",
      " 5   Grad Intention     62 non-null     object \n",
      " 6   GPA                62 non-null     float64\n",
      " 7   Employment         62 non-null     object \n",
      " 8   Salary             62 non-null     float64\n",
      " 9   Social Networking  62 non-null     int64  \n",
      " 10  Satisfaction       62 non-null     int64  \n",
      " 11  Spending           62 non-null     int64  \n",
      " 12  Computer           62 non-null     object \n",
      " 13  Text Messages      62 non-null     int64  \n",
      "dtypes: float64(2), int64(6), object(6)\n",
      "memory usage: 6.9+ KB\n"
     ]
    }
   ],
   "source": [
    "df2.info()"
   ]
  },
  {
   "cell_type": "code",
   "execution_count": 285,
   "id": "f27a9bf2",
   "metadata": {},
   "outputs": [
    {
     "data": {
      "text/plain": [
       "ID                   0\n",
       "Gender               0\n",
       "Age                  0\n",
       "Class                0\n",
       "Major                0\n",
       "Grad Intention       0\n",
       "GPA                  0\n",
       "Employment           0\n",
       "Salary               0\n",
       "Social Networking    0\n",
       "Satisfaction         0\n",
       "Spending             0\n",
       "Computer             0\n",
       "Text Messages        0\n",
       "dtype: int64"
      ]
     },
     "execution_count": 285,
     "metadata": {},
     "output_type": "execute_result"
    }
   ],
   "source": [
    "df2.isnull().sum()"
   ]
  },
  {
   "cell_type": "code",
   "execution_count": 286,
   "id": "7d25ec59",
   "metadata": {},
   "outputs": [
    {
     "data": {
      "text/html": [
       "<div>\n",
       "<style scoped>\n",
       "    .dataframe tbody tr th:only-of-type {\n",
       "        vertical-align: middle;\n",
       "    }\n",
       "\n",
       "    .dataframe tbody tr th {\n",
       "        vertical-align: top;\n",
       "    }\n",
       "\n",
       "    .dataframe thead th {\n",
       "        text-align: right;\n",
       "    }\n",
       "</style>\n",
       "<table border=\"1\" class=\"dataframe\">\n",
       "  <thead>\n",
       "    <tr style=\"text-align: right;\">\n",
       "      <th></th>\n",
       "      <th>count</th>\n",
       "      <th>unique</th>\n",
       "      <th>top</th>\n",
       "      <th>freq</th>\n",
       "      <th>mean</th>\n",
       "      <th>std</th>\n",
       "      <th>min</th>\n",
       "      <th>25%</th>\n",
       "      <th>50%</th>\n",
       "      <th>75%</th>\n",
       "      <th>max</th>\n",
       "    </tr>\n",
       "  </thead>\n",
       "  <tbody>\n",
       "    <tr>\n",
       "      <th>ID</th>\n",
       "      <td>62.0</td>\n",
       "      <td>NaN</td>\n",
       "      <td>NaN</td>\n",
       "      <td>NaN</td>\n",
       "      <td>31.5</td>\n",
       "      <td>18.041619</td>\n",
       "      <td>1.0</td>\n",
       "      <td>16.25</td>\n",
       "      <td>31.5</td>\n",
       "      <td>46.75</td>\n",
       "      <td>62.0</td>\n",
       "    </tr>\n",
       "    <tr>\n",
       "      <th>Gender</th>\n",
       "      <td>62</td>\n",
       "      <td>2</td>\n",
       "      <td>Female</td>\n",
       "      <td>33</td>\n",
       "      <td>NaN</td>\n",
       "      <td>NaN</td>\n",
       "      <td>NaN</td>\n",
       "      <td>NaN</td>\n",
       "      <td>NaN</td>\n",
       "      <td>NaN</td>\n",
       "      <td>NaN</td>\n",
       "    </tr>\n",
       "    <tr>\n",
       "      <th>Age</th>\n",
       "      <td>62.0</td>\n",
       "      <td>NaN</td>\n",
       "      <td>NaN</td>\n",
       "      <td>NaN</td>\n",
       "      <td>21.129032</td>\n",
       "      <td>1.431311</td>\n",
       "      <td>18.0</td>\n",
       "      <td>20.0</td>\n",
       "      <td>21.0</td>\n",
       "      <td>22.0</td>\n",
       "      <td>26.0</td>\n",
       "    </tr>\n",
       "    <tr>\n",
       "      <th>Class</th>\n",
       "      <td>62</td>\n",
       "      <td>3</td>\n",
       "      <td>Senior</td>\n",
       "      <td>31</td>\n",
       "      <td>NaN</td>\n",
       "      <td>NaN</td>\n",
       "      <td>NaN</td>\n",
       "      <td>NaN</td>\n",
       "      <td>NaN</td>\n",
       "      <td>NaN</td>\n",
       "      <td>NaN</td>\n",
       "    </tr>\n",
       "    <tr>\n",
       "      <th>Major</th>\n",
       "      <td>62</td>\n",
       "      <td>8</td>\n",
       "      <td>Retailing/Marketing</td>\n",
       "      <td>14</td>\n",
       "      <td>NaN</td>\n",
       "      <td>NaN</td>\n",
       "      <td>NaN</td>\n",
       "      <td>NaN</td>\n",
       "      <td>NaN</td>\n",
       "      <td>NaN</td>\n",
       "      <td>NaN</td>\n",
       "    </tr>\n",
       "    <tr>\n",
       "      <th>Grad Intention</th>\n",
       "      <td>62</td>\n",
       "      <td>3</td>\n",
       "      <td>Yes</td>\n",
       "      <td>28</td>\n",
       "      <td>NaN</td>\n",
       "      <td>NaN</td>\n",
       "      <td>NaN</td>\n",
       "      <td>NaN</td>\n",
       "      <td>NaN</td>\n",
       "      <td>NaN</td>\n",
       "      <td>NaN</td>\n",
       "    </tr>\n",
       "    <tr>\n",
       "      <th>GPA</th>\n",
       "      <td>62.0</td>\n",
       "      <td>NaN</td>\n",
       "      <td>NaN</td>\n",
       "      <td>NaN</td>\n",
       "      <td>3.129032</td>\n",
       "      <td>0.377388</td>\n",
       "      <td>2.3</td>\n",
       "      <td>2.9</td>\n",
       "      <td>3.15</td>\n",
       "      <td>3.4</td>\n",
       "      <td>3.9</td>\n",
       "    </tr>\n",
       "    <tr>\n",
       "      <th>Employment</th>\n",
       "      <td>62</td>\n",
       "      <td>3</td>\n",
       "      <td>Part-Time</td>\n",
       "      <td>43</td>\n",
       "      <td>NaN</td>\n",
       "      <td>NaN</td>\n",
       "      <td>NaN</td>\n",
       "      <td>NaN</td>\n",
       "      <td>NaN</td>\n",
       "      <td>NaN</td>\n",
       "      <td>NaN</td>\n",
       "    </tr>\n",
       "    <tr>\n",
       "      <th>Salary</th>\n",
       "      <td>62.0</td>\n",
       "      <td>NaN</td>\n",
       "      <td>NaN</td>\n",
       "      <td>NaN</td>\n",
       "      <td>48.548387</td>\n",
       "      <td>12.080912</td>\n",
       "      <td>25.0</td>\n",
       "      <td>40.0</td>\n",
       "      <td>50.0</td>\n",
       "      <td>55.0</td>\n",
       "      <td>80.0</td>\n",
       "    </tr>\n",
       "    <tr>\n",
       "      <th>Social Networking</th>\n",
       "      <td>62.0</td>\n",
       "      <td>NaN</td>\n",
       "      <td>NaN</td>\n",
       "      <td>NaN</td>\n",
       "      <td>1.516129</td>\n",
       "      <td>0.844305</td>\n",
       "      <td>0.0</td>\n",
       "      <td>1.0</td>\n",
       "      <td>1.0</td>\n",
       "      <td>2.0</td>\n",
       "      <td>4.0</td>\n",
       "    </tr>\n",
       "    <tr>\n",
       "      <th>Satisfaction</th>\n",
       "      <td>62.0</td>\n",
       "      <td>NaN</td>\n",
       "      <td>NaN</td>\n",
       "      <td>NaN</td>\n",
       "      <td>3.741935</td>\n",
       "      <td>1.213793</td>\n",
       "      <td>1.0</td>\n",
       "      <td>3.0</td>\n",
       "      <td>4.0</td>\n",
       "      <td>4.0</td>\n",
       "      <td>6.0</td>\n",
       "    </tr>\n",
       "    <tr>\n",
       "      <th>Spending</th>\n",
       "      <td>62.0</td>\n",
       "      <td>NaN</td>\n",
       "      <td>NaN</td>\n",
       "      <td>NaN</td>\n",
       "      <td>482.016129</td>\n",
       "      <td>221.953805</td>\n",
       "      <td>100.0</td>\n",
       "      <td>312.5</td>\n",
       "      <td>500.0</td>\n",
       "      <td>600.0</td>\n",
       "      <td>1400.0</td>\n",
       "    </tr>\n",
       "    <tr>\n",
       "      <th>Computer</th>\n",
       "      <td>62</td>\n",
       "      <td>3</td>\n",
       "      <td>Laptop</td>\n",
       "      <td>55</td>\n",
       "      <td>NaN</td>\n",
       "      <td>NaN</td>\n",
       "      <td>NaN</td>\n",
       "      <td>NaN</td>\n",
       "      <td>NaN</td>\n",
       "      <td>NaN</td>\n",
       "      <td>NaN</td>\n",
       "    </tr>\n",
       "    <tr>\n",
       "      <th>Text Messages</th>\n",
       "      <td>62.0</td>\n",
       "      <td>NaN</td>\n",
       "      <td>NaN</td>\n",
       "      <td>NaN</td>\n",
       "      <td>246.209677</td>\n",
       "      <td>214.46595</td>\n",
       "      <td>0.0</td>\n",
       "      <td>100.0</td>\n",
       "      <td>200.0</td>\n",
       "      <td>300.0</td>\n",
       "      <td>900.0</td>\n",
       "    </tr>\n",
       "  </tbody>\n",
       "</table>\n",
       "</div>"
      ],
      "text/plain": [
       "                  count unique                  top freq        mean  \\\n",
       "ID                 62.0    NaN                  NaN  NaN        31.5   \n",
       "Gender               62      2               Female   33         NaN   \n",
       "Age                62.0    NaN                  NaN  NaN   21.129032   \n",
       "Class                62      3               Senior   31         NaN   \n",
       "Major                62      8  Retailing/Marketing   14         NaN   \n",
       "Grad Intention       62      3                  Yes   28         NaN   \n",
       "GPA                62.0    NaN                  NaN  NaN    3.129032   \n",
       "Employment           62      3            Part-Time   43         NaN   \n",
       "Salary             62.0    NaN                  NaN  NaN   48.548387   \n",
       "Social Networking  62.0    NaN                  NaN  NaN    1.516129   \n",
       "Satisfaction       62.0    NaN                  NaN  NaN    3.741935   \n",
       "Spending           62.0    NaN                  NaN  NaN  482.016129   \n",
       "Computer             62      3               Laptop   55         NaN   \n",
       "Text Messages      62.0    NaN                  NaN  NaN  246.209677   \n",
       "\n",
       "                          std    min    25%    50%    75%     max  \n",
       "ID                  18.041619    1.0  16.25   31.5  46.75    62.0  \n",
       "Gender                    NaN    NaN    NaN    NaN    NaN     NaN  \n",
       "Age                  1.431311   18.0   20.0   21.0   22.0    26.0  \n",
       "Class                     NaN    NaN    NaN    NaN    NaN     NaN  \n",
       "Major                     NaN    NaN    NaN    NaN    NaN     NaN  \n",
       "Grad Intention            NaN    NaN    NaN    NaN    NaN     NaN  \n",
       "GPA                  0.377388    2.3    2.9   3.15    3.4     3.9  \n",
       "Employment                NaN    NaN    NaN    NaN    NaN     NaN  \n",
       "Salary              12.080912   25.0   40.0   50.0   55.0    80.0  \n",
       "Social Networking    0.844305    0.0    1.0    1.0    2.0     4.0  \n",
       "Satisfaction         1.213793    1.0    3.0    4.0    4.0     6.0  \n",
       "Spending           221.953805  100.0  312.5  500.0  600.0  1400.0  \n",
       "Computer                  NaN    NaN    NaN    NaN    NaN     NaN  \n",
       "Text Messages       214.46595    0.0  100.0  200.0  300.0   900.0  "
      ]
     },
     "execution_count": 286,
     "metadata": {},
     "output_type": "execute_result"
    }
   ],
   "source": [
    "df2.describe(include='all').T"
   ]
  },
  {
   "cell_type": "markdown",
   "id": "b967e432",
   "metadata": {},
   "source": [
    "2.1. For this data, construct the following contingency tables (Keep Gender as row variable)\n",
    "\n",
    "2.1.1. Gender and Major"
   ]
  },
  {
   "cell_type": "code",
   "execution_count": 287,
   "id": "ab2bb0fb",
   "metadata": {},
   "outputs": [
    {
     "data": {
      "text/html": [
       "<div>\n",
       "<style scoped>\n",
       "    .dataframe tbody tr th:only-of-type {\n",
       "        vertical-align: middle;\n",
       "    }\n",
       "\n",
       "    .dataframe tbody tr th {\n",
       "        vertical-align: top;\n",
       "    }\n",
       "\n",
       "    .dataframe thead th {\n",
       "        text-align: right;\n",
       "    }\n",
       "</style>\n",
       "<table border=\"1\" class=\"dataframe\">\n",
       "  <thead>\n",
       "    <tr style=\"text-align: right;\">\n",
       "      <th>Major</th>\n",
       "      <th>Accounting</th>\n",
       "      <th>CIS</th>\n",
       "      <th>Economics/Finance</th>\n",
       "      <th>International Business</th>\n",
       "      <th>Management</th>\n",
       "      <th>Other</th>\n",
       "      <th>Retailing/Marketing</th>\n",
       "      <th>Undecided</th>\n",
       "      <th>All</th>\n",
       "    </tr>\n",
       "    <tr>\n",
       "      <th>Gender</th>\n",
       "      <th></th>\n",
       "      <th></th>\n",
       "      <th></th>\n",
       "      <th></th>\n",
       "      <th></th>\n",
       "      <th></th>\n",
       "      <th></th>\n",
       "      <th></th>\n",
       "      <th></th>\n",
       "    </tr>\n",
       "  </thead>\n",
       "  <tbody>\n",
       "    <tr>\n",
       "      <th>Female</th>\n",
       "      <td>3</td>\n",
       "      <td>3</td>\n",
       "      <td>7</td>\n",
       "      <td>4</td>\n",
       "      <td>4</td>\n",
       "      <td>3</td>\n",
       "      <td>9</td>\n",
       "      <td>0</td>\n",
       "      <td>33</td>\n",
       "    </tr>\n",
       "    <tr>\n",
       "      <th>Male</th>\n",
       "      <td>4</td>\n",
       "      <td>1</td>\n",
       "      <td>4</td>\n",
       "      <td>2</td>\n",
       "      <td>6</td>\n",
       "      <td>4</td>\n",
       "      <td>5</td>\n",
       "      <td>3</td>\n",
       "      <td>29</td>\n",
       "    </tr>\n",
       "    <tr>\n",
       "      <th>All</th>\n",
       "      <td>7</td>\n",
       "      <td>4</td>\n",
       "      <td>11</td>\n",
       "      <td>6</td>\n",
       "      <td>10</td>\n",
       "      <td>7</td>\n",
       "      <td>14</td>\n",
       "      <td>3</td>\n",
       "      <td>62</td>\n",
       "    </tr>\n",
       "  </tbody>\n",
       "</table>\n",
       "</div>"
      ],
      "text/plain": [
       "Major   Accounting  CIS  Economics/Finance  International Business  \\\n",
       "Gender                                                               \n",
       "Female           3    3                  7                       4   \n",
       "Male             4    1                  4                       2   \n",
       "All              7    4                 11                       6   \n",
       "\n",
       "Major   Management  Other  Retailing/Marketing  Undecided  All  \n",
       "Gender                                                          \n",
       "Female           4      3                    9          0   33  \n",
       "Male             6      4                    5          3   29  \n",
       "All             10      7                   14          3   62  "
      ]
     },
     "execution_count": 287,
     "metadata": {},
     "output_type": "execute_result"
    }
   ],
   "source": [
    "data_gender_major = pd.crosstab(df2['Gender'],\n",
    "                            df2['Major'],\n",
    "                              margins=True )\n",
    "data_gender_major"
   ]
  },
  {
   "cell_type": "markdown",
   "id": "3e60b772",
   "metadata": {},
   "source": [
    "2.1.2. Gender and Grad Intention"
   ]
  },
  {
   "cell_type": "code",
   "execution_count": 288,
   "id": "290ee5e9",
   "metadata": {},
   "outputs": [
    {
     "data": {
      "text/html": [
       "<div>\n",
       "<style scoped>\n",
       "    .dataframe tbody tr th:only-of-type {\n",
       "        vertical-align: middle;\n",
       "    }\n",
       "\n",
       "    .dataframe tbody tr th {\n",
       "        vertical-align: top;\n",
       "    }\n",
       "\n",
       "    .dataframe thead th {\n",
       "        text-align: right;\n",
       "    }\n",
       "</style>\n",
       "<table border=\"1\" class=\"dataframe\">\n",
       "  <thead>\n",
       "    <tr style=\"text-align: right;\">\n",
       "      <th>Grad Intention</th>\n",
       "      <th>No</th>\n",
       "      <th>Undecided</th>\n",
       "      <th>Yes</th>\n",
       "      <th>All</th>\n",
       "    </tr>\n",
       "    <tr>\n",
       "      <th>Gender</th>\n",
       "      <th></th>\n",
       "      <th></th>\n",
       "      <th></th>\n",
       "      <th></th>\n",
       "    </tr>\n",
       "  </thead>\n",
       "  <tbody>\n",
       "    <tr>\n",
       "      <th>Female</th>\n",
       "      <td>9</td>\n",
       "      <td>13</td>\n",
       "      <td>11</td>\n",
       "      <td>33</td>\n",
       "    </tr>\n",
       "    <tr>\n",
       "      <th>Male</th>\n",
       "      <td>3</td>\n",
       "      <td>9</td>\n",
       "      <td>17</td>\n",
       "      <td>29</td>\n",
       "    </tr>\n",
       "    <tr>\n",
       "      <th>All</th>\n",
       "      <td>12</td>\n",
       "      <td>22</td>\n",
       "      <td>28</td>\n",
       "      <td>62</td>\n",
       "    </tr>\n",
       "  </tbody>\n",
       "</table>\n",
       "</div>"
      ],
      "text/plain": [
       "Grad Intention  No  Undecided  Yes  All\n",
       "Gender                                 \n",
       "Female           9         13   11   33\n",
       "Male             3          9   17   29\n",
       "All             12         22   28   62"
      ]
     },
     "execution_count": 288,
     "metadata": {},
     "output_type": "execute_result"
    }
   ],
   "source": [
    "data_gender_grad_intention = pd.crosstab(df2['Gender'],\n",
    "                            df2['Grad Intention'],\n",
    "                              margins=True )\n",
    "data_gender_grad_intention"
   ]
  },
  {
   "cell_type": "markdown",
   "id": "4a60c13d",
   "metadata": {},
   "source": [
    "2.1.3. Gender and Employment"
   ]
  },
  {
   "cell_type": "code",
   "execution_count": 289,
   "id": "6491f5ba",
   "metadata": {},
   "outputs": [
    {
     "data": {
      "text/html": [
       "<div>\n",
       "<style scoped>\n",
       "    .dataframe tbody tr th:only-of-type {\n",
       "        vertical-align: middle;\n",
       "    }\n",
       "\n",
       "    .dataframe tbody tr th {\n",
       "        vertical-align: top;\n",
       "    }\n",
       "\n",
       "    .dataframe thead th {\n",
       "        text-align: right;\n",
       "    }\n",
       "</style>\n",
       "<table border=\"1\" class=\"dataframe\">\n",
       "  <thead>\n",
       "    <tr style=\"text-align: right;\">\n",
       "      <th>Employment</th>\n",
       "      <th>Full-Time</th>\n",
       "      <th>Part-Time</th>\n",
       "      <th>Unemployed</th>\n",
       "      <th>All</th>\n",
       "    </tr>\n",
       "    <tr>\n",
       "      <th>Gender</th>\n",
       "      <th></th>\n",
       "      <th></th>\n",
       "      <th></th>\n",
       "      <th></th>\n",
       "    </tr>\n",
       "  </thead>\n",
       "  <tbody>\n",
       "    <tr>\n",
       "      <th>Female</th>\n",
       "      <td>3</td>\n",
       "      <td>24</td>\n",
       "      <td>6</td>\n",
       "      <td>33</td>\n",
       "    </tr>\n",
       "    <tr>\n",
       "      <th>Male</th>\n",
       "      <td>7</td>\n",
       "      <td>19</td>\n",
       "      <td>3</td>\n",
       "      <td>29</td>\n",
       "    </tr>\n",
       "    <tr>\n",
       "      <th>All</th>\n",
       "      <td>10</td>\n",
       "      <td>43</td>\n",
       "      <td>9</td>\n",
       "      <td>62</td>\n",
       "    </tr>\n",
       "  </tbody>\n",
       "</table>\n",
       "</div>"
      ],
      "text/plain": [
       "Employment  Full-Time  Part-Time  Unemployed  All\n",
       "Gender                                           \n",
       "Female              3         24           6   33\n",
       "Male                7         19           3   29\n",
       "All                10         43           9   62"
      ]
     },
     "execution_count": 289,
     "metadata": {},
     "output_type": "execute_result"
    }
   ],
   "source": [
    "data_gender_emp = pd.crosstab(df2['Gender'],\n",
    "                            df2['Employment'],\n",
    "                              margins=True )\n",
    "data_gender_emp"
   ]
  },
  {
   "cell_type": "markdown",
   "id": "9004bac6",
   "metadata": {},
   "source": [
    "2.1.4. Gender and Computer"
   ]
  },
  {
   "cell_type": "code",
   "execution_count": 290,
   "id": "f8dd3349",
   "metadata": {},
   "outputs": [
    {
     "data": {
      "text/html": [
       "<div>\n",
       "<style scoped>\n",
       "    .dataframe tbody tr th:only-of-type {\n",
       "        vertical-align: middle;\n",
       "    }\n",
       "\n",
       "    .dataframe tbody tr th {\n",
       "        vertical-align: top;\n",
       "    }\n",
       "\n",
       "    .dataframe thead th {\n",
       "        text-align: right;\n",
       "    }\n",
       "</style>\n",
       "<table border=\"1\" class=\"dataframe\">\n",
       "  <thead>\n",
       "    <tr style=\"text-align: right;\">\n",
       "      <th>Computer</th>\n",
       "      <th>Desktop</th>\n",
       "      <th>Laptop</th>\n",
       "      <th>Tablet</th>\n",
       "      <th>All</th>\n",
       "    </tr>\n",
       "    <tr>\n",
       "      <th>Gender</th>\n",
       "      <th></th>\n",
       "      <th></th>\n",
       "      <th></th>\n",
       "      <th></th>\n",
       "    </tr>\n",
       "  </thead>\n",
       "  <tbody>\n",
       "    <tr>\n",
       "      <th>Female</th>\n",
       "      <td>2</td>\n",
       "      <td>29</td>\n",
       "      <td>2</td>\n",
       "      <td>33</td>\n",
       "    </tr>\n",
       "    <tr>\n",
       "      <th>Male</th>\n",
       "      <td>3</td>\n",
       "      <td>26</td>\n",
       "      <td>0</td>\n",
       "      <td>29</td>\n",
       "    </tr>\n",
       "    <tr>\n",
       "      <th>All</th>\n",
       "      <td>5</td>\n",
       "      <td>55</td>\n",
       "      <td>2</td>\n",
       "      <td>62</td>\n",
       "    </tr>\n",
       "  </tbody>\n",
       "</table>\n",
       "</div>"
      ],
      "text/plain": [
       "Computer  Desktop  Laptop  Tablet  All\n",
       "Gender                                \n",
       "Female          2      29       2   33\n",
       "Male            3      26       0   29\n",
       "All             5      55       2   62"
      ]
     },
     "execution_count": 290,
     "metadata": {},
     "output_type": "execute_result"
    }
   ],
   "source": [
    "data_gender_cmp = pd.crosstab(df2['Gender'],\n",
    "                            df2['Computer'],\n",
    "                              margins=True )\n",
    "data_gender_cmp"
   ]
  },
  {
   "cell_type": "markdown",
   "id": "6d771c26",
   "metadata": {},
   "source": [
    "2.2. Assume that the sample is a representative of the population of CMSU. Based on the data, answer the following question:"
   ]
  },
  {
   "cell_type": "markdown",
   "id": "9a86ae7c",
   "metadata": {},
   "source": [
    "2.2.1 What is the probability that a randomly selected CMSU student will be male?"
   ]
  },
  {
   "cell_type": "code",
   "execution_count": 291,
   "id": "13f99c0b",
   "metadata": {},
   "outputs": [
    {
     "name": "stdout",
     "output_type": "stream",
     "text": [
      "Probability that a randomly selected CMSU student will be male is 29/62\n"
     ]
    }
   ],
   "source": [
    "print('Probability that a randomly selected CMSU student will be male is {}/{}'.format(df2['Gender'].value_counts()['Male'],df2.shape[0]))"
   ]
  },
  {
   "cell_type": "markdown",
   "id": "07741ea9",
   "metadata": {},
   "source": [
    "2.2.2 What is the probability that a randomly selected CMSU student will be female?"
   ]
  },
  {
   "cell_type": "code",
   "execution_count": 292,
   "id": "76fc1b18",
   "metadata": {},
   "outputs": [
    {
     "name": "stdout",
     "output_type": "stream",
     "text": [
      "Probability that a randomly selected CMSU student will be female is 33/62\n"
     ]
    }
   ],
   "source": [
    "print('Probability that a randomly selected CMSU student will be female is {}/{}'.format(df2['Gender'].value_counts()['Female'],df2.shape[0]))"
   ]
  },
  {
   "cell_type": "markdown",
   "id": "b5b28e7c",
   "metadata": {},
   "source": [
    "2.3. Assume that the sample is a representative of the population of CMSU. Based on the data, answer the following question:"
   ]
  },
  {
   "cell_type": "markdown",
   "id": "e537c416",
   "metadata": {},
   "source": [
    "2.3.1 Find the conditional probability of different majors among the male students in CMSU."
   ]
  },
  {
   "cell_type": "markdown",
   "id": "39600d13",
   "metadata": {},
   "source": [
    "P(Major from major_list | Male)"
   ]
  },
  {
   "cell_type": "code",
   "execution_count": 293,
   "id": "0aea1a9e",
   "metadata": {},
   "outputs": [],
   "source": [
    "major_list=['Accounting','CIS','Economics/Finance','International Business','Management','Other','Retailing/Marketing','Undecided']"
   ]
  },
  {
   "cell_type": "code",
   "execution_count": 294,
   "id": "ef91ad82",
   "metadata": {},
   "outputs": [
    {
     "name": "stdout",
     "output_type": "stream",
     "text": [
      "Conditional probability of major Accounting among male is 4/29\n",
      "Conditional probability of major CIS among male is 1/29\n",
      "Conditional probability of major Economics/Finance among male is 4/29\n",
      "Conditional probability of major International Business among male is 2/29\n",
      "Conditional probability of major Management among male is 6/29\n",
      "Conditional probability of major Other among male is 4/29\n",
      "Conditional probability of major Retailing/Marketing among male is 5/29\n",
      "Conditional probability of major Undecided among male is 3/29\n"
     ]
    }
   ],
   "source": [
    "for i in major_list:\n",
    "    print('Conditional probability of major',i,'among male is {}/{}'.format(data_gender_major.loc['Male'][i],data_gender_major.loc['Male']['All']))"
   ]
  },
  {
   "cell_type": "markdown",
   "id": "48d1bbb6",
   "metadata": {},
   "source": [
    "2.3.2 Find the conditional probability of different majors among the female students of CMSU."
   ]
  },
  {
   "cell_type": "markdown",
   "id": "20fa6415",
   "metadata": {},
   "source": [
    "P(Major from major_list | Female)"
   ]
  },
  {
   "cell_type": "code",
   "execution_count": 295,
   "id": "b2c49a8c",
   "metadata": {},
   "outputs": [
    {
     "name": "stdout",
     "output_type": "stream",
     "text": [
      "Conditional probability of major Accounting among female is 3/33\n",
      "Conditional probability of major CIS among female is 3/33\n",
      "Conditional probability of major Economics/Finance among female is 7/33\n",
      "Conditional probability of major International Business among female is 4/33\n",
      "Conditional probability of major Management among female is 4/33\n",
      "Conditional probability of major Other among female is 3/33\n",
      "Conditional probability of major Retailing/Marketing among female is 9/33\n",
      "Conditional probability of major Undecided among female is 0/33\n"
     ]
    }
   ],
   "source": [
    "for i in major_list:\n",
    "    print('Conditional probability of major',i,'among female is {}/{}'.format(data_gender_major.loc['Female'][i],data_gender_major.loc['Female']['All']))"
   ]
  },
  {
   "cell_type": "markdown",
   "id": "7de9decc",
   "metadata": {},
   "source": [
    "2.4. Assume that the sample is a representative of the population of CMSU. Based on the data, answer the following question:"
   ]
  },
  {
   "cell_type": "markdown",
   "id": "57a5d752",
   "metadata": {},
   "source": [
    "2.4.1 Find the probability That a randomly chosen student is a male and intends to graduate."
   ]
  },
  {
   "cell_type": "markdown",
   "id": "a27c61ff",
   "metadata": {},
   "source": [
    "P(Male and Intends to Graduate) = P(Male) P(Intends to Graduate|Male)"
   ]
  },
  {
   "cell_type": "code",
   "execution_count": 296,
   "id": "f543e343",
   "metadata": {},
   "outputs": [
    {
     "data": {
      "text/html": [
       "<div>\n",
       "<style scoped>\n",
       "    .dataframe tbody tr th:only-of-type {\n",
       "        vertical-align: middle;\n",
       "    }\n",
       "\n",
       "    .dataframe tbody tr th {\n",
       "        vertical-align: top;\n",
       "    }\n",
       "\n",
       "    .dataframe thead th {\n",
       "        text-align: right;\n",
       "    }\n",
       "</style>\n",
       "<table border=\"1\" class=\"dataframe\">\n",
       "  <thead>\n",
       "    <tr style=\"text-align: right;\">\n",
       "      <th>Grad Intention</th>\n",
       "      <th>No</th>\n",
       "      <th>Undecided</th>\n",
       "      <th>Yes</th>\n",
       "      <th>All</th>\n",
       "    </tr>\n",
       "    <tr>\n",
       "      <th>Gender</th>\n",
       "      <th></th>\n",
       "      <th></th>\n",
       "      <th></th>\n",
       "      <th></th>\n",
       "    </tr>\n",
       "  </thead>\n",
       "  <tbody>\n",
       "    <tr>\n",
       "      <th>Female</th>\n",
       "      <td>9</td>\n",
       "      <td>13</td>\n",
       "      <td>11</td>\n",
       "      <td>33</td>\n",
       "    </tr>\n",
       "    <tr>\n",
       "      <th>Male</th>\n",
       "      <td>3</td>\n",
       "      <td>9</td>\n",
       "      <td>17</td>\n",
       "      <td>29</td>\n",
       "    </tr>\n",
       "    <tr>\n",
       "      <th>All</th>\n",
       "      <td>12</td>\n",
       "      <td>22</td>\n",
       "      <td>28</td>\n",
       "      <td>62</td>\n",
       "    </tr>\n",
       "  </tbody>\n",
       "</table>\n",
       "</div>"
      ],
      "text/plain": [
       "Grad Intention  No  Undecided  Yes  All\n",
       "Gender                                 \n",
       "Female           9         13   11   33\n",
       "Male             3          9   17   29\n",
       "All             12         22   28   62"
      ]
     },
     "execution_count": 296,
     "metadata": {},
     "output_type": "execute_result"
    }
   ],
   "source": [
    "data_gender_grad_intention"
   ]
  },
  {
   "cell_type": "code",
   "execution_count": 297,
   "id": "152b5b76",
   "metadata": {},
   "outputs": [
    {
     "name": "stdout",
     "output_type": "stream",
     "text": [
      "P(Male)=Total Male/Total number of students => 29/62\n",
      "P(Intends to Graduate|Male)= Total Male intends to Graduate/Total Male=> 17/29\n",
      "Probablity that a randomly chosen male student intends to graduate is 0.27419354838709675\n"
     ]
    }
   ],
   "source": [
    "print('P(Male)=Total Male/Total number of students => {}/{}'.format(df2['Gender'].value_counts()['Male'],df2.shape[0]))\n",
    "print('P(Intends to Graduate|Male)= Total Male intends to Graduate/Total Male=> {}/{}'.format(data_gender_grad_intention.loc['Male']['Yes'],data_gender_grad_intention.loc['Male']['All']))\n",
    "print('Probablity that a randomly chosen male student intends to graduate is',(29/62)*(17/29))"
   ]
  },
  {
   "cell_type": "markdown",
   "id": "df18ad30",
   "metadata": {},
   "source": [
    "2.4.2 Find the probability that a randomly selected student is a female and does NOT have a laptop."
   ]
  },
  {
   "cell_type": "markdown",
   "id": "301aaa44",
   "metadata": {},
   "source": [
    "P(Female and no Laptop) = P(Female) P(no Laptop|Female)"
   ]
  },
  {
   "cell_type": "code",
   "execution_count": 309,
   "id": "10af29b3",
   "metadata": {},
   "outputs": [
    {
     "data": {
      "text/html": [
       "<div>\n",
       "<style scoped>\n",
       "    .dataframe tbody tr th:only-of-type {\n",
       "        vertical-align: middle;\n",
       "    }\n",
       "\n",
       "    .dataframe tbody tr th {\n",
       "        vertical-align: top;\n",
       "    }\n",
       "\n",
       "    .dataframe thead th {\n",
       "        text-align: right;\n",
       "    }\n",
       "</style>\n",
       "<table border=\"1\" class=\"dataframe\">\n",
       "  <thead>\n",
       "    <tr style=\"text-align: right;\">\n",
       "      <th>Computer</th>\n",
       "      <th>Desktop</th>\n",
       "      <th>Laptop</th>\n",
       "      <th>Tablet</th>\n",
       "      <th>All</th>\n",
       "    </tr>\n",
       "    <tr>\n",
       "      <th>Gender</th>\n",
       "      <th></th>\n",
       "      <th></th>\n",
       "      <th></th>\n",
       "      <th></th>\n",
       "    </tr>\n",
       "  </thead>\n",
       "  <tbody>\n",
       "    <tr>\n",
       "      <th>Female</th>\n",
       "      <td>2</td>\n",
       "      <td>29</td>\n",
       "      <td>2</td>\n",
       "      <td>33</td>\n",
       "    </tr>\n",
       "    <tr>\n",
       "      <th>Male</th>\n",
       "      <td>3</td>\n",
       "      <td>26</td>\n",
       "      <td>0</td>\n",
       "      <td>29</td>\n",
       "    </tr>\n",
       "    <tr>\n",
       "      <th>All</th>\n",
       "      <td>5</td>\n",
       "      <td>55</td>\n",
       "      <td>2</td>\n",
       "      <td>62</td>\n",
       "    </tr>\n",
       "  </tbody>\n",
       "</table>\n",
       "</div>"
      ],
      "text/plain": [
       "Computer  Desktop  Laptop  Tablet  All\n",
       "Gender                                \n",
       "Female          2      29       2   33\n",
       "Male            3      26       0   29\n",
       "All             5      55       2   62"
      ]
     },
     "execution_count": 309,
     "metadata": {},
     "output_type": "execute_result"
    }
   ],
   "source": [
    "data_gender_cmp"
   ]
  },
  {
   "cell_type": "code",
   "execution_count": 310,
   "id": "184c5912",
   "metadata": {},
   "outputs": [
    {
     "name": "stdout",
     "output_type": "stream",
     "text": [
      "P(Female)=Total Female/Total number of students => 33/62\n",
      "P(no Laptop|Female)= Total female having no laptop/Total female=> 4/33\n",
      "Probablity that a randomly chosen male student intends to graduate is 0.06451612903225806\n"
     ]
    }
   ],
   "source": [
    "print('P(Female)=Total Female/Total number of students => {}/{}'.format(df2['Gender'].value_counts()['Female'],df2.shape[0]))\n",
    "print('P(no Laptop|Female)= Total female having no laptop/Total female=> {}/{}'.format(data_gender_cmp.loc['Female']['Desktop']+data_gender_cmp.loc['Female']['Tablet'],data_gender_cmp.loc['Female']['All']))\n",
    "print('Probablity that a randomly chosen male student intends to graduate is',(33/62)*(4/33))"
   ]
  },
  {
   "cell_type": "markdown",
   "id": "48566248",
   "metadata": {},
   "source": [
    "2.5. Assume that the sample is a representative of the population of CMSU. Based on the data, answer the following question:"
   ]
  },
  {
   "cell_type": "markdown",
   "id": "97c967ac",
   "metadata": {},
   "source": [
    "2.5.1 Find the probability that a randomly chosen student is a male or has a full-time employment"
   ]
  },
  {
   "cell_type": "markdown",
   "id": "a5ba04d1",
   "metadata": {},
   "source": [
    "P(Male U Full-time) = P(Male) + P(Full-time) - P(Male ∩ Full-time)"
   ]
  },
  {
   "cell_type": "code",
   "execution_count": 300,
   "id": "643ef6a8",
   "metadata": {},
   "outputs": [
    {
     "data": {
      "text/html": [
       "<div>\n",
       "<style scoped>\n",
       "    .dataframe tbody tr th:only-of-type {\n",
       "        vertical-align: middle;\n",
       "    }\n",
       "\n",
       "    .dataframe tbody tr th {\n",
       "        vertical-align: top;\n",
       "    }\n",
       "\n",
       "    .dataframe thead th {\n",
       "        text-align: right;\n",
       "    }\n",
       "</style>\n",
       "<table border=\"1\" class=\"dataframe\">\n",
       "  <thead>\n",
       "    <tr style=\"text-align: right;\">\n",
       "      <th>Employment</th>\n",
       "      <th>Full-Time</th>\n",
       "      <th>Part-Time</th>\n",
       "      <th>Unemployed</th>\n",
       "      <th>All</th>\n",
       "    </tr>\n",
       "    <tr>\n",
       "      <th>Gender</th>\n",
       "      <th></th>\n",
       "      <th></th>\n",
       "      <th></th>\n",
       "      <th></th>\n",
       "    </tr>\n",
       "  </thead>\n",
       "  <tbody>\n",
       "    <tr>\n",
       "      <th>Female</th>\n",
       "      <td>3</td>\n",
       "      <td>24</td>\n",
       "      <td>6</td>\n",
       "      <td>33</td>\n",
       "    </tr>\n",
       "    <tr>\n",
       "      <th>Male</th>\n",
       "      <td>7</td>\n",
       "      <td>19</td>\n",
       "      <td>3</td>\n",
       "      <td>29</td>\n",
       "    </tr>\n",
       "    <tr>\n",
       "      <th>All</th>\n",
       "      <td>10</td>\n",
       "      <td>43</td>\n",
       "      <td>9</td>\n",
       "      <td>62</td>\n",
       "    </tr>\n",
       "  </tbody>\n",
       "</table>\n",
       "</div>"
      ],
      "text/plain": [
       "Employment  Full-Time  Part-Time  Unemployed  All\n",
       "Gender                                           \n",
       "Female              3         24           6   33\n",
       "Male                7         19           3   29\n",
       "All                10         43           9   62"
      ]
     },
     "execution_count": 300,
     "metadata": {},
     "output_type": "execute_result"
    }
   ],
   "source": [
    "data_gender_emp"
   ]
  },
  {
   "cell_type": "code",
   "execution_count": 167,
   "id": "49d41f09",
   "metadata": {},
   "outputs": [
    {
     "name": "stdout",
     "output_type": "stream",
     "text": [
      "P(Male) = 29/62\n",
      "P(Full-time) = 10/62\n",
      "P(Male ∩ Full-time) = 7/62\n",
      "Probability that a randomly chosen student is a male or has a full-time employment is \n",
      "P(Male U Full-time) = P(Male)+P(Full-time)-P(Male ∩ Full-time)=>(29+10-7)/62 => 0.5161290322580645\n"
     ]
    }
   ],
   "source": [
    "print('P(Male) = {}/{}'.format(df2['Gender'].value_counts()['Male'],df2.shape[0]))\n",
    "print('P(Full-time) = {}/{}'.format(df2['Employment'].value_counts()['Full-Time'],df2.shape[0]))\n",
    "print('P(Male ∩ Full-time) = {}/{}'.format(len(df2[(df2['Gender']=='Male') & (df2['Employment']=='Full-Time')]),df2.shape[0]))\n",
    "print('Probability that a randomly chosen student is a male or has a full-time employment is \\nP(Male U Full-time) = P(Male)+P(Full-time)-P(Male ∩ Full-time)=>(29+10-7)/62 =>',(29+10-7)/62)"
   ]
  },
  {
   "cell_type": "markdown",
   "id": "a2a960f9",
   "metadata": {},
   "source": [
    "2.5.2 Find the conditional probability that given a female student is randomly chosen, she is majoring in international business or management."
   ]
  },
  {
   "cell_type": "markdown",
   "id": "1995013d",
   "metadata": {},
   "source": [
    "P(international business OR management | Female) = P(international business|Female) + P(management|Female) "
   ]
  },
  {
   "cell_type": "code",
   "execution_count": 168,
   "id": "34a33460",
   "metadata": {},
   "outputs": [
    {
     "data": {
      "text/html": [
       "<div>\n",
       "<style scoped>\n",
       "    .dataframe tbody tr th:only-of-type {\n",
       "        vertical-align: middle;\n",
       "    }\n",
       "\n",
       "    .dataframe tbody tr th {\n",
       "        vertical-align: top;\n",
       "    }\n",
       "\n",
       "    .dataframe thead th {\n",
       "        text-align: right;\n",
       "    }\n",
       "</style>\n",
       "<table border=\"1\" class=\"dataframe\">\n",
       "  <thead>\n",
       "    <tr style=\"text-align: right;\">\n",
       "      <th>Major</th>\n",
       "      <th>Accounting</th>\n",
       "      <th>CIS</th>\n",
       "      <th>Economics/Finance</th>\n",
       "      <th>International Business</th>\n",
       "      <th>Management</th>\n",
       "      <th>Other</th>\n",
       "      <th>Retailing/Marketing</th>\n",
       "      <th>Undecided</th>\n",
       "      <th>All</th>\n",
       "    </tr>\n",
       "    <tr>\n",
       "      <th>Gender</th>\n",
       "      <th></th>\n",
       "      <th></th>\n",
       "      <th></th>\n",
       "      <th></th>\n",
       "      <th></th>\n",
       "      <th></th>\n",
       "      <th></th>\n",
       "      <th></th>\n",
       "      <th></th>\n",
       "    </tr>\n",
       "  </thead>\n",
       "  <tbody>\n",
       "    <tr>\n",
       "      <th>Female</th>\n",
       "      <td>3</td>\n",
       "      <td>3</td>\n",
       "      <td>7</td>\n",
       "      <td>4</td>\n",
       "      <td>4</td>\n",
       "      <td>3</td>\n",
       "      <td>9</td>\n",
       "      <td>0</td>\n",
       "      <td>33</td>\n",
       "    </tr>\n",
       "    <tr>\n",
       "      <th>Male</th>\n",
       "      <td>4</td>\n",
       "      <td>1</td>\n",
       "      <td>4</td>\n",
       "      <td>2</td>\n",
       "      <td>6</td>\n",
       "      <td>4</td>\n",
       "      <td>5</td>\n",
       "      <td>3</td>\n",
       "      <td>29</td>\n",
       "    </tr>\n",
       "    <tr>\n",
       "      <th>All</th>\n",
       "      <td>7</td>\n",
       "      <td>4</td>\n",
       "      <td>11</td>\n",
       "      <td>6</td>\n",
       "      <td>10</td>\n",
       "      <td>7</td>\n",
       "      <td>14</td>\n",
       "      <td>3</td>\n",
       "      <td>62</td>\n",
       "    </tr>\n",
       "  </tbody>\n",
       "</table>\n",
       "</div>"
      ],
      "text/plain": [
       "Major   Accounting  CIS  Economics/Finance  International Business  \\\n",
       "Gender                                                               \n",
       "Female           3    3                  7                       4   \n",
       "Male             4    1                  4                       2   \n",
       "All              7    4                 11                       6   \n",
       "\n",
       "Major   Management  Other  Retailing/Marketing  Undecided  All  \n",
       "Gender                                                          \n",
       "Female           4      3                    9          0   33  \n",
       "Male             6      4                    5          3   29  \n",
       "All             10      7                   14          3   62  "
      ]
     },
     "execution_count": 168,
     "metadata": {},
     "output_type": "execute_result"
    }
   ],
   "source": [
    "data_gender_major"
   ]
  },
  {
   "cell_type": "code",
   "execution_count": 301,
   "id": "5488e433",
   "metadata": {},
   "outputs": [
    {
     "name": "stdout",
     "output_type": "stream",
     "text": [
      "P(international business|Female)=4/33\n",
      "P(management|Female)=4/33\n",
      "P(international business ∪ management|Female)=(4/33)+(4/33)=> 0.24242424242424243\n"
     ]
    }
   ],
   "source": [
    "print('P(international business|Female)={}/{}'.format(data_gender_major.loc['Female']['International Business'],df2['Gender'].value_counts()['Female']))\n",
    "print('P(management|Female)={}/{}'.format(data_gender_major.loc['Female']['Management'],df2['Gender'].value_counts()['Female']))\n",
    "print('P(international business ∪ management|Female)=(4/33)+(4/33)=>',(4/33)+(4/33))"
   ]
  },
  {
   "cell_type": "markdown",
   "id": "ca352b7e",
   "metadata": {},
   "source": [
    "2.6 Construct a contingency table of Gender and Intent to Graduate at 2 levels (Yes/No). The Undecided students are not considered now and the table is a 2x2 table. Do you think graduate intention and being female are independent events?"
   ]
  },
  {
   "cell_type": "code",
   "execution_count": 302,
   "id": "d3539e07",
   "metadata": {},
   "outputs": [
    {
     "data": {
      "text/html": [
       "<div>\n",
       "<style scoped>\n",
       "    .dataframe tbody tr th:only-of-type {\n",
       "        vertical-align: middle;\n",
       "    }\n",
       "\n",
       "    .dataframe tbody tr th {\n",
       "        vertical-align: top;\n",
       "    }\n",
       "\n",
       "    .dataframe thead th {\n",
       "        text-align: right;\n",
       "    }\n",
       "</style>\n",
       "<table border=\"1\" class=\"dataframe\">\n",
       "  <thead>\n",
       "    <tr style=\"text-align: right;\">\n",
       "      <th>Grad Intention</th>\n",
       "      <th>No</th>\n",
       "      <th>Undecided</th>\n",
       "      <th>Yes</th>\n",
       "      <th>All</th>\n",
       "    </tr>\n",
       "    <tr>\n",
       "      <th>Gender</th>\n",
       "      <th></th>\n",
       "      <th></th>\n",
       "      <th></th>\n",
       "      <th></th>\n",
       "    </tr>\n",
       "  </thead>\n",
       "  <tbody>\n",
       "    <tr>\n",
       "      <th>Female</th>\n",
       "      <td>9</td>\n",
       "      <td>13</td>\n",
       "      <td>11</td>\n",
       "      <td>33</td>\n",
       "    </tr>\n",
       "    <tr>\n",
       "      <th>Male</th>\n",
       "      <td>3</td>\n",
       "      <td>9</td>\n",
       "      <td>17</td>\n",
       "      <td>29</td>\n",
       "    </tr>\n",
       "    <tr>\n",
       "      <th>All</th>\n",
       "      <td>12</td>\n",
       "      <td>22</td>\n",
       "      <td>28</td>\n",
       "      <td>62</td>\n",
       "    </tr>\n",
       "  </tbody>\n",
       "</table>\n",
       "</div>"
      ],
      "text/plain": [
       "Grad Intention  No  Undecided  Yes  All\n",
       "Gender                                 \n",
       "Female           9         13   11   33\n",
       "Male             3          9   17   29\n",
       "All             12         22   28   62"
      ]
     },
     "execution_count": 302,
     "metadata": {},
     "output_type": "execute_result"
    }
   ],
   "source": [
    "data_cont = pd.crosstab(df2['Gender'],df2['Grad Intention'],margins=True )\n",
    "data_cont"
   ]
  },
  {
   "cell_type": "markdown",
   "id": "a7a85e40",
   "metadata": {},
   "source": [
    "P(Female and Graduate intention) = P(Female).P(Graduate intention|Female) #dependent event"
   ]
  },
  {
   "cell_type": "code",
   "execution_count": 303,
   "id": "76df9130",
   "metadata": {},
   "outputs": [
    {
     "name": "stdout",
     "output_type": "stream",
     "text": [
      "P(Female and Graduate intention) = 11/62 => 0.1774193548387097\n",
      "P(Female)=33/62\n",
      "P(Graduate intention|Female)=11/33\n",
      "P(Female)*P(Graduate intention|Female)=>(33/62)*(11/33) => 0.17741935483870966\n"
     ]
    }
   ],
   "source": [
    "print('P(Female and Graduate intention) = {}/{}'.format(len(df2[(df2['Gender']=='Female') & (df2['Grad Intention']=='Yes')]),data_cont['All']['All']),'=>',11/62)\n",
    "print('P(Female)={}/{}'.format(df2['Gender'].value_counts()['Female'],data_cont['All']['All']))\n",
    "print('P(Graduate intention|Female)={}/{}'.format(data_cont.loc['Female']['Yes'],data_cont.loc['Female']['All']))\n",
    "print('P(Female)*P(Graduate intention|Female)=>(33/62)*(11/33) =>',(33/62)*(11/33))"
   ]
  },
  {
   "cell_type": "markdown",
   "id": "433438aa",
   "metadata": {},
   "source": [
    "From the above output,<br>\n",
    "P(Female and Graduate intention)=P(Female)*P(Graduate intention|Female)<br>\n",
    "Therefore they are dependent events and not independent events"
   ]
  },
  {
   "cell_type": "markdown",
   "id": "c7f746c8",
   "metadata": {},
   "source": [
    "2.7 Note that there are four numerical (continuous) variables in the data set, GPA, Salary, Spending and Text Messages. Answer the following questions based on the data"
   ]
  },
  {
   "cell_type": "markdown",
   "id": "73a1d726",
   "metadata": {},
   "source": [
    "2.7.1 If a student is chosen randomly, what is the probability that his/her GPA is less than 3?"
   ]
  },
  {
   "cell_type": "code",
   "execution_count": 304,
   "id": "1b062dc7",
   "metadata": {},
   "outputs": [
    {
     "name": "stdout",
     "output_type": "stream",
     "text": [
      "Probability of randomly chosen student has a GPA less than 3 is 17/62\n"
     ]
    }
   ],
   "source": [
    "print('Probability of randomly chosen student has a GPA less than 3 is {}/{}'.format((df2[df2['GPA']<3]).shape[0],df2.shape[0]))"
   ]
  },
  {
   "cell_type": "markdown",
   "id": "daa863ad",
   "metadata": {},
   "source": [
    "2.7.2 Find conditional probability that a randomly selected male earns 50 or more. Find conditional probability that a randomly selected female earns 50 or more."
   ]
  },
  {
   "cell_type": "code",
   "execution_count": 172,
   "id": "4fa72063",
   "metadata": {},
   "outputs": [
    {
     "name": "stdout",
     "output_type": "stream",
     "text": [
      "Conditional probability that a randomly selected male earns 50 or more => P(Salary>=50|Male)\n",
      "Total number of males having salary more than 50 = 14\n",
      "Total number of male = 29\n",
      "P(Salary>=50|Male) = Total number of males having salary more than 50 / Total number of male => 14/29\n",
      "P(Salary>=50|Male) = 0.4827586206896552\n"
     ]
    }
   ],
   "source": [
    "print('Conditional probability that a randomly selected male earns 50 or more => P(Salary>=50|Male)')\n",
    "print('Total number of males having salary more than 50 =',len(df2[(df2['Gender']=='Male') & (df2['Salary']>=50.0)]))\n",
    "print('Total number of male =',df2['Gender'].value_counts()['Male'])\n",
    "print('P(Salary>=50|Male) = Total number of males having salary more than 50 / Total number of male => 14/29')\n",
    "print('P(Salary>=50|Male) =',len(df2[(df2['Gender']=='Male') & (df2['Salary']>=50.0)])/df2['Gender'].value_counts()['Male'])"
   ]
  },
  {
   "cell_type": "code",
   "execution_count": 173,
   "id": "feff8b44",
   "metadata": {},
   "outputs": [
    {
     "name": "stdout",
     "output_type": "stream",
     "text": [
      "Conditional probability that a randomly selected female earns 50 or more => P(Salary>=50|Female)\n",
      "Total number of females having salary more than 50 = 18\n",
      "Total number of female = 33\n",
      "P(Salary>=50|Female) = Total number of Females having salary more than 50 / Total number of female = 18/33\n",
      "P(Salary>=50|Female) = 0.5454545454545454\n"
     ]
    }
   ],
   "source": [
    "print('Conditional probability that a randomly selected female earns 50 or more => P(Salary>=50|Female)')\n",
    "print('Total number of females having salary more than 50 =',len(df2[(df2['Gender']=='Female') & (df2['Salary']>=50.0)]))\n",
    "print('Total number of female =',df2['Gender'].value_counts()['Female'])\n",
    "print('P(Salary>=50|Female) = Total number of Females having salary more than 50 / Total number of female = 18/33')\n",
    "print('P(Salary>=50|Female) =',len(df2[(df2['Gender']=='Female') & (df2['Salary']>=50.0)])/df2['Gender'].value_counts()['Female'])"
   ]
  },
  {
   "cell_type": "markdown",
   "id": "865203eb",
   "metadata": {},
   "source": [
    "2.8.1 Note that there are four numerical (continuous) variables in the data set, GPA, Salary, Spending and Text Messages. For each of them comment whether they follow a normal distribution."
   ]
  },
  {
   "cell_type": "code",
   "execution_count": 174,
   "id": "fdd75820",
   "metadata": {},
   "outputs": [
    {
     "data": {
      "image/png": "[encoded data removed]",
      "text/plain": [
       "<Figure size 720x1440 with 1 Axes>"
      ]
     },
     "metadata": {
      "needs_background": "light"
     },
     "output_type": "display_data"
    },
    {
     "data": {
      "image/png": "[encoded data removed]",
      "text/plain": [
       "<Figure size 720x1440 with 1 Axes>"
      ]
     },
     "metadata": {
      "needs_background": "light"
     },
     "output_type": "display_data"
    },
    {
     "data": {
      "image/png": "[encoded data removed]",
      "text/plain": [
       "<Figure size 720x1440 with 1 Axes>"
      ]
     },
     "metadata": {
      "needs_background": "light"
     },
     "output_type": "display_data"
    },
    {
     "data": {
      "image/png": "[encoded data removed]",
      "text/plain": [
       "<Figure size 720x1440 with 1 Axes>"
      ]
     },
     "metadata": {
      "needs_background": "light"
     },
     "output_type": "display_data"
    }
   ],
   "source": [
    "plt.figure(figsize= (10,20))\n",
    "plt.subplot(4,1,1)\n",
    "sns.histplot(x=\"GPA\", data=df2,kde=True)\n",
    "\n",
    "plt.figure(figsize= (10,20))\n",
    "plt.subplot(4,1,2)\n",
    "sns.histplot(x=\"Salary\", data=df2,kde=True)\n",
    "\n",
    "plt.figure(figsize= (10,20))\n",
    "plt.subplot(4,1,3)\n",
    "sns.histplot(x=\"Spending\", data=df2,kde=True)\n",
    "\n",
    "plt.figure(figsize= (10,20))\n",
    "plt.subplot(4,1,4)\n",
    "sns.histplot(x=\"Text Messages\", data=df2,kde=True);"
   ]
  },
  {
   "cell_type": "markdown",
   "id": "67690357",
   "metadata": {},
   "source": [
    "GPA is normally distributed<br>\n",
    "Salary is normally distributed.<br>\n",
    "Spending is not normally distributed<br>\n",
    "Text messages is not normally distributed<br>"
   ]
  },
  {
   "cell_type": "markdown",
   "id": "631b33da",
   "metadata": {},
   "source": [
    "2.8.2 Write a note summarizing your conclusions"
   ]
  },
  {
   "cell_type": "markdown",
   "id": "1d60eca0",
   "metadata": {},
   "source": [
    "•\tFemale samples are present more than male samples.<br>\n",
    "•\tManagement is the most popular Major among male whereas Retailing/Marketing is the most popular among female. Retailing/Marketing is the most popular Major.<br>\n",
    "•\tMale has higher intention of Graduation rather than female.<br>\n",
    "•\tRatio of part-time employment is higher than other employment type.<br>\n",
    "•\tGraduate intention events are affected based on the gender.<br>\n",
    "•\tRatio of female who earn more than or equal to 50 is higher than male. <br>\n",
    "•\tSpending and Texts Messages do not follow bell curve."
   ]
  },
  {
   "cell_type": "markdown",
   "id": "fc0187f7",
   "metadata": {},
   "source": [
    "Project 3"
   ]
  },
  {
   "cell_type": "code",
   "execution_count": 312,
   "id": "35b48245",
   "metadata": {},
   "outputs": [],
   "source": [
    "df3=pd.read_csv('A+%26+B+shingles.csv')"
   ]
  },
  {
   "cell_type": "code",
   "execution_count": 313,
   "id": "e83b3cc5",
   "metadata": {},
   "outputs": [
    {
     "data": {
      "text/html": [
       "<div>\n",
       "<style scoped>\n",
       "    .dataframe tbody tr th:only-of-type {\n",
       "        vertical-align: middle;\n",
       "    }\n",
       "\n",
       "    .dataframe tbody tr th {\n",
       "        vertical-align: top;\n",
       "    }\n",
       "\n",
       "    .dataframe thead th {\n",
       "        text-align: right;\n",
       "    }\n",
       "</style>\n",
       "<table border=\"1\" class=\"dataframe\">\n",
       "  <thead>\n",
       "    <tr style=\"text-align: right;\">\n",
       "      <th></th>\n",
       "      <th>A</th>\n",
       "      <th>B</th>\n",
       "    </tr>\n",
       "  </thead>\n",
       "  <tbody>\n",
       "    <tr>\n",
       "      <th>0</th>\n",
       "      <td>0.44</td>\n",
       "      <td>0.14</td>\n",
       "    </tr>\n",
       "    <tr>\n",
       "      <th>1</th>\n",
       "      <td>0.61</td>\n",
       "      <td>0.15</td>\n",
       "    </tr>\n",
       "    <tr>\n",
       "      <th>2</th>\n",
       "      <td>0.47</td>\n",
       "      <td>0.31</td>\n",
       "    </tr>\n",
       "    <tr>\n",
       "      <th>3</th>\n",
       "      <td>0.30</td>\n",
       "      <td>0.16</td>\n",
       "    </tr>\n",
       "    <tr>\n",
       "      <th>4</th>\n",
       "      <td>0.15</td>\n",
       "      <td>0.37</td>\n",
       "    </tr>\n",
       "  </tbody>\n",
       "</table>\n",
       "</div>"
      ],
      "text/plain": [
       "      A     B\n",
       "0  0.44  0.14\n",
       "1  0.61  0.15\n",
       "2  0.47  0.31\n",
       "3  0.30  0.16\n",
       "4  0.15  0.37"
      ]
     },
     "execution_count": 313,
     "metadata": {},
     "output_type": "execute_result"
    }
   ],
   "source": [
    "df3.head()"
   ]
  },
  {
   "cell_type": "code",
   "execution_count": 314,
   "id": "f96907d9",
   "metadata": {},
   "outputs": [
    {
     "name": "stdout",
     "output_type": "stream",
     "text": [
      "<class 'pandas.core.frame.DataFrame'>\n",
      "RangeIndex: 36 entries, 0 to 35\n",
      "Data columns (total 2 columns):\n",
      " #   Column  Non-Null Count  Dtype  \n",
      "---  ------  --------------  -----  \n",
      " 0   A       36 non-null     float64\n",
      " 1   B       31 non-null     float64\n",
      "dtypes: float64(2)\n",
      "memory usage: 704.0 bytes\n"
     ]
    }
   ],
   "source": [
    "df3.info()"
   ]
  },
  {
   "cell_type": "code",
   "execution_count": 315,
   "id": "bd5ed648",
   "metadata": {},
   "outputs": [
    {
     "data": {
      "text/html": [
       "<div>\n",
       "<style scoped>\n",
       "    .dataframe tbody tr th:only-of-type {\n",
       "        vertical-align: middle;\n",
       "    }\n",
       "\n",
       "    .dataframe tbody tr th {\n",
       "        vertical-align: top;\n",
       "    }\n",
       "\n",
       "    .dataframe thead th {\n",
       "        text-align: right;\n",
       "    }\n",
       "</style>\n",
       "<table border=\"1\" class=\"dataframe\">\n",
       "  <thead>\n",
       "    <tr style=\"text-align: right;\">\n",
       "      <th></th>\n",
       "      <th>count</th>\n",
       "      <th>mean</th>\n",
       "      <th>std</th>\n",
       "      <th>min</th>\n",
       "      <th>25%</th>\n",
       "      <th>50%</th>\n",
       "      <th>75%</th>\n",
       "      <th>max</th>\n",
       "    </tr>\n",
       "  </thead>\n",
       "  <tbody>\n",
       "    <tr>\n",
       "      <th>A</th>\n",
       "      <td>36.0</td>\n",
       "      <td>0.316667</td>\n",
       "      <td>0.135731</td>\n",
       "      <td>0.13</td>\n",
       "      <td>0.2075</td>\n",
       "      <td>0.29</td>\n",
       "      <td>0.3925</td>\n",
       "      <td>0.72</td>\n",
       "    </tr>\n",
       "    <tr>\n",
       "      <th>B</th>\n",
       "      <td>31.0</td>\n",
       "      <td>0.273548</td>\n",
       "      <td>0.137296</td>\n",
       "      <td>0.10</td>\n",
       "      <td>0.1600</td>\n",
       "      <td>0.23</td>\n",
       "      <td>0.4000</td>\n",
       "      <td>0.58</td>\n",
       "    </tr>\n",
       "  </tbody>\n",
       "</table>\n",
       "</div>"
      ],
      "text/plain": [
       "   count      mean       std   min     25%   50%     75%   max\n",
       "A   36.0  0.316667  0.135731  0.13  0.2075  0.29  0.3925  0.72\n",
       "B   31.0  0.273548  0.137296  0.10  0.1600  0.23  0.4000  0.58"
      ]
     },
     "execution_count": 315,
     "metadata": {},
     "output_type": "execute_result"
    }
   ],
   "source": [
    "df3.describe().T"
   ]
  },
  {
   "cell_type": "markdown",
   "id": "6bb5919f",
   "metadata": {},
   "source": [
    "3.1 Do you think there is evidence that means moisture contents in both types of shingles are within the permissible limits? State your conclusions clearly showing all steps."
   ]
  },
  {
   "cell_type": "markdown",
   "id": "b80d2d30",
   "metadata": {},
   "source": [
    "H0:Mean>=0.35<br>\n",
    "H1:Mean<0.35"
   ]
  },
  {
   "cell_type": "code",
   "execution_count": 316,
   "id": "ff211193",
   "metadata": {},
   "outputs": [],
   "source": [
    "from scipy.stats import ttest_1samp"
   ]
  },
  {
   "cell_type": "code",
   "execution_count": 317,
   "id": "0471a53c",
   "metadata": {},
   "outputs": [],
   "source": [
    "alpha=0.05"
   ]
  },
  {
   "cell_type": "markdown",
   "id": "dabec1d1",
   "metadata": {},
   "source": [
    "For sample A"
   ]
  },
  {
   "cell_type": "code",
   "execution_count": 318,
   "id": "676455d0",
   "metadata": {
    "scrolled": true
   },
   "outputs": [
    {
     "name": "stdout",
     "output_type": "stream",
     "text": [
      "One sample t test for sample A \n",
      "t statistic: -1.4735046253382782 p value: 0.07477633144907513 \n"
     ]
    }
   ],
   "source": [
    "t_statistic1, p_value1 = ttest_1samp(df3['A'], 0.35)\n",
    "print('One sample t test for sample A \\nt statistic: {0} p value: {1} '.format(t_statistic1, p_value1/2))"
   ]
  },
  {
   "cell_type": "markdown",
   "id": "084af3f7",
   "metadata": {},
   "source": [
    "For sample B"
   ]
  },
  {
   "cell_type": "code",
   "execution_count": 319,
   "id": "a8fa5487",
   "metadata": {},
   "outputs": [
    {
     "name": "stdout",
     "output_type": "stream",
     "text": [
      "One sample t test for sample B \n",
      "t statistic: -3.1003313069986995 p value: 0.0020904774003191826\n"
     ]
    }
   ],
   "source": [
    "t_statistic2, p_value2 = ttest_1samp(df3['B'], 0.35,nan_policy = 'omit')\n",
    "print('One sample t test for sample B \\nt statistic: {0} p value: {1}'.format(t_statistic2, p_value2/2))"
   ]
  },
  {
   "cell_type": "code",
   "execution_count": 320,
   "id": "abe66353",
   "metadata": {},
   "outputs": [
    {
     "name": "stdout",
     "output_type": "stream",
     "text": [
      "Level of significance: 0.05\n",
      "\n",
      "Our one-sample t-test for sample A, p-value= 0.07477633144907513\n",
      "We have no evidence to reject the null hypothesis since p value > Level of significance\n",
      "So at 95% confidence level, there is sufficient evidence to prove that mean of moisture contents is not within permissible limits.\n",
      "\n",
      "Our one-sample t-test for sample B, p-value= 0.0020904774003191826\n",
      "We have evidence to reject the null hypothesis since p value < Level of significance\n",
      "So at 95% confidence level, there is sufficient evidence to prove that mean of moisture contents is within permissible limits.\n"
     ]
    }
   ],
   "source": [
    "print('Level of significance: %.2f' %alpha)\n",
    "\n",
    "print (\"\\nOur one-sample t-test for sample A, p-value=\", p_value1/2)\n",
    "if (p_value1/2) < alpha: \n",
    "    print('We have evidence to reject the null hypothesis since p value < Level of significance')\n",
    "    print('So at 95% confidence level, there is sufficient evidence to prove that mean of moisture contents is within permissible limits.')\n",
    "else:\n",
    "    print('We have no evidence to reject the null hypothesis since p value > Level of significance') \n",
    "    print('So at 95% confidence level, there is sufficient evidence to prove that mean of moisture contents is not within permissible limits.')\n",
    "    \n",
    "print (\"\\nOur one-sample t-test for sample B, p-value=\", p_value2/2)\n",
    "if (p_value2/2) < alpha: \n",
    "    print('We have evidence to reject the null hypothesis since p value < Level of significance')\n",
    "    print('So at 95% confidence level, there is sufficient evidence to prove that mean of moisture contents is within permissible limits.')\n",
    "else:\n",
    "    print('We have no evidence to reject the null hypothesis since p value > Level of significance') \n",
    "    print('So at 95% confidence level, there is sufficient evidence to prove that mean of moisture contents is not within permissible limits.')"
   ]
  },
  {
   "cell_type": "markdown",
   "id": "3165d0da",
   "metadata": {},
   "source": [
    "3.2 Do you think that the population mean for shingles A and B are equal? Form the hypothesis and conduct the test of the hypothesis. What assumption do you need to check before the test for equality of means is performed?"
   ]
  },
  {
   "cell_type": "code",
   "execution_count": 321,
   "id": "033e2258",
   "metadata": {},
   "outputs": [],
   "source": [
    "from scipy.stats import ttest_ind"
   ]
  },
  {
   "cell_type": "markdown",
   "id": "14b77b37",
   "metadata": {},
   "source": [
    "H(A):MeanA=MeanB<br>\n",
    "H(Null):MeanA≠MeanB"
   ]
  },
  {
   "cell_type": "code",
   "execution_count": 322,
   "id": "a24d0aca",
   "metadata": {},
   "outputs": [],
   "source": [
    "alpha=0.05"
   ]
  },
  {
   "cell_type": "code",
   "execution_count": 323,
   "id": "53b8a834",
   "metadata": {},
   "outputs": [
    {
     "name": "stdout",
     "output_type": "stream",
     "text": [
      "tstat 1.2896282719661123\n",
      "P Value 0.2017496571835306\n"
     ]
    }
   ],
   "source": [
    "t_statistic, p_value  = ttest_ind(df3['A'],df3['B'], nan_policy='omit')\n",
    "print('tstat',t_statistic)    \n",
    "print('P Value',p_value)  "
   ]
  },
  {
   "cell_type": "code",
   "execution_count": 324,
   "id": "40b70fce",
   "metadata": {},
   "outputs": [
    {
     "name": "stdout",
     "output_type": "stream",
     "text": [
      "two-sample t-test p-value= 0.2017496571835306\n",
      "We do not have enough evidence to reject the null hypothesis in favour of alternative hypothesis\n",
      "We conclude that mean of shingles and B are not same.\n"
     ]
    }
   ],
   "source": [
    "print (\"two-sample t-test p-value=\", p_value)\n",
    "\n",
    "if p_value < alpha:\n",
    "    print('We have enough evidence to reject the null hypothesis in favour of alternative hypothesis')\n",
    "    print('We conclude that mean of shingles and B are same.')\n",
    "else:\n",
    "    print('We do not have enough evidence to reject the null hypothesis in favour of alternative hypothesis')\n",
    "    print('We conclude that mean of shingles and B are not same.')"
   ]
  },
  {
   "cell_type": "markdown",
   "id": "a4387ac3",
   "metadata": {},
   "source": [
    "Assumptions - "
   ]
  },
  {
   "cell_type": "markdown",
   "id": "5be03932",
   "metadata": {},
   "source": [
    "The samples from population must be independent of one another<br>\n",
    "Data from each group is obtained by random sampling from the population<br>\n",
    "The populations from which the data in each group is taken must be normally distributed<br>                                     "
   ]
  },
  {
   "cell_type": "code",
   "execution_count": null,
   "id": "0f90c748",
   "metadata": {},
   "outputs": [],
   "source": []
  }
 ],
 "metadata": {
  "kernelspec": {
   "display_name": "Python 3 (ipykernel)",
   "language": "python",
   "name": "python3"
  },
  "language_info": {
   "codemirror_mode": {
    "name": "ipython",
    "version": 3
   },
   "file_extension": ".py",
   "mimetype": "text/x-python",
   "name": "python",
   "nbconvert_exporter": "python",
   "pygments_lexer": "ipython3",
   "version": "3.9.7"
  }
 },
 "nbformat": 4,
 "nbformat_minor": 5
}
